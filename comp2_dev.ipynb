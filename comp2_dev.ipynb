{
 "cells": [
  {
   "cell_type": "code",
   "execution_count": 34,
   "metadata": {},
   "outputs": [],
   "source": [
    "import numpy as np\n",
    "import pandas as pd\n",
    "import matplotlib.pyplot as plt\n",
    "from ipywidgets import interact, SelectionSlider\n",
    "\n",
    "import comet_ml\n",
    "from sklearn.preprocessing import MinMaxScaler\n",
    "from sklearn.model_selection import StratifiedKFold\n",
    "from sklearn.metrics import f1_score\n",
    "\n",
    "#from stumpy import stump, mstump\n",
    "\n",
    "import lightgbm as lgbm\n",
    "from lightgbm import LGBMClassifier\n",
    "\n",
    "import optuna\n",
    "\n",
    "plt.rcParams[\"figure.figsize\"] = (12, 6)\n",
    "np.random.seed(0)"
   ]
  },
  {
   "cell_type": "markdown",
   "metadata": {},
   "source": [
    "# Setup"
   ]
  },
  {
   "cell_type": "code",
   "execution_count": 2,
   "metadata": {},
   "outputs": [],
   "source": [
    "train_df = pd.read_csv(\"./data/train.csv\", index_col=0).drop_duplicates()\n",
    "test_df = pd.read_csv(\"./data/test_nolabels.csv\", index_col=0)\n",
    "\n",
    "y1_weight = train_df.LABELS.sum() / train_df.shape[0]\n",
    "# y1_weight = 0.6757894386583703"
   ]
  },
  {
   "cell_type": "code",
   "execution_count": 3,
   "metadata": {},
   "outputs": [],
   "source": [
    "# Constants to select pandas columns efficiently\n",
    "# all months abbreviations: jan, feb, mar, etc.\n",
    "MONTHS = [m.lower() for m in pd.date_range(0, freq=\"M\", periods=12).strftime(\"%b\").to_list()]\n",
    "\n",
    "# return all columns based on MONTH: train_df[COL_BY_MONTH[\"jan\"]]\n",
    "COL_BY_MONTH = {}\n",
    "for month in MONTHS:\n",
    "    COL_BY_MONTH[month] = [col for col in train_df.columns if month in col]\n",
    "\n",
    "# all features\n",
    "FEATURES = [col for col in train_df.columns if col != \"LABELS\"]\n",
    "# all features with the month stripped: S2_B2_\n",
    "COL_BASE = list({col[:-3] for col in FEATURES})\n",
    "# return all columns based on FEATURE (e.g., across months): train_df[COL_BY_FEATURE[\"S2_B2_\"]]\n",
    "# alternatively, you can select the same df using: train_df[COL_BY_FEATURE[FEATURES[0]]]\n",
    "COL_BY_FEATURE = {}\n",
    "for feature in COL_BASE:\n",
    "    COL_BY_FEATURE[feature] = [col for col in train_df.columns if feature in col]"
   ]
  },
  {
   "cell_type": "code",
   "execution_count": 21,
   "metadata": {},
   "outputs": [],
   "source": [
    "# aggregate same features over 3, 6, 12 months\n",
    "def agg_over_months(train_df, agg_func=[\"mean\"], freq=12):\n",
    "    \"\"\"\n",
    "    agg_func: hold a list of pandas.aggregate functions\n",
    "    Freq: the length of the window for aggregation: i.e, freq=6 -> two windows of 6 months\n",
    "    \"\"\"\n",
    "    agg_cols = []\n",
    "    # iterate over all features\n",
    "    for feature_id in range(len(COL_BASE)):\n",
    "        # mask to only select columns associated with the feature\n",
    "        feature_mask = COL_BY_FEATURE[COL_BASE[feature_id]]\n",
    "        \n",
    "        start_month = 0 # counter for iteration\n",
    "        n_step = int(12/freq) # number of steps based on the freq parameter\n",
    "        # iterate over n_steps\n",
    "        for i in range(n_step):\n",
    "            # for each aggregation function, apply the aggregate\n",
    "            for agg in agg_func:\n",
    "                # mask columns and aggregate\n",
    "                agg_col = train_df[feature_mask].iloc[:, start_month:start_month+freq].aggregate(agg, axis=1)\n",
    "                \n",
    "                # name the new column and append to list\n",
    "                name = f\"{COL_BASE[feature_id]}{start_month}{start_month+freq}_{agg}\"\n",
    "                agg_cols.append(pd.Series(agg_col, name=name))\n",
    "                                \n",
    "                start_month += freq\n",
    "    \n",
    "    # add back the labels to the list of columns\n",
    "    agg_cols.append(train_df.LABELS)\n",
    "    # reconstruct the dataframe from columns\n",
    "    return pd.concat(agg_cols, axis=1)"
   ]
  },
  {
   "cell_type": "code",
   "execution_count": 24,
   "metadata": {},
   "outputs": [
    {
     "data": {
      "text/html": [
       "<div>\n",
       "<style scoped>\n",
       "    .dataframe tbody tr th:only-of-type {\n",
       "        vertical-align: middle;\n",
       "    }\n",
       "\n",
       "    .dataframe tbody tr th {\n",
       "        vertical-align: top;\n",
       "    }\n",
       "\n",
       "    .dataframe thead th {\n",
       "        text-align: right;\n",
       "    }\n",
       "</style>\n",
       "<table border=\"1\" class=\"dataframe\">\n",
       "  <thead>\n",
       "    <tr style=\"text-align: right;\">\n",
       "      <th></th>\n",
       "      <th>S2_B2_03_mean</th>\n",
       "      <th>S2_B2_36_mean</th>\n",
       "      <th>S2_B2_69_mean</th>\n",
       "      <th>S2_B2_912_mean</th>\n",
       "      <th>S2_B9_03_mean</th>\n",
       "      <th>S2_B9_36_mean</th>\n",
       "      <th>S2_B9_69_mean</th>\n",
       "      <th>S2_B9_912_mean</th>\n",
       "      <th>S2_B6_03_mean</th>\n",
       "      <th>S2_B6_36_mean</th>\n",
       "      <th>...</th>\n",
       "      <th>NDVI_912_mean</th>\n",
       "      <th>S2_B8A_03_mean</th>\n",
       "      <th>S2_B8A_36_mean</th>\n",
       "      <th>S2_B8A_69_mean</th>\n",
       "      <th>S2_B8A_912_mean</th>\n",
       "      <th>S2_B11_03_mean</th>\n",
       "      <th>S2_B11_36_mean</th>\n",
       "      <th>S2_B11_69_mean</th>\n",
       "      <th>S2_B11_912_mean</th>\n",
       "      <th>LABELS</th>\n",
       "    </tr>\n",
       "  </thead>\n",
       "  <tbody>\n",
       "    <tr>\n",
       "      <th>0</th>\n",
       "      <td>-14.093836</td>\n",
       "      <td>-9.991954</td>\n",
       "      <td>-10.943987</td>\n",
       "      <td>-12.976085</td>\n",
       "      <td>2171.539166</td>\n",
       "      <td>2155.125001</td>\n",
       "      <td>2522.893043</td>\n",
       "      <td>2073.676877</td>\n",
       "      <td>1406.921506</td>\n",
       "      <td>964.716930</td>\n",
       "      <td>...</td>\n",
       "      <td>0.370383</td>\n",
       "      <td>2106.535374</td>\n",
       "      <td>2271.992818</td>\n",
       "      <td>2610.521527</td>\n",
       "      <td>2156.724780</td>\n",
       "      <td>2417.803938</td>\n",
       "      <td>2366.037185</td>\n",
       "      <td>2855.235345</td>\n",
       "      <td>2488.196876</td>\n",
       "      <td>0.0</td>\n",
       "    </tr>\n",
       "    <tr>\n",
       "      <th>1</th>\n",
       "      <td>-12.297835</td>\n",
       "      <td>-9.635970</td>\n",
       "      <td>-9.414786</td>\n",
       "      <td>-10.779338</td>\n",
       "      <td>2562.458277</td>\n",
       "      <td>3196.184811</td>\n",
       "      <td>3887.110039</td>\n",
       "      <td>2643.928820</td>\n",
       "      <td>936.083670</td>\n",
       "      <td>859.240854</td>\n",
       "      <td>...</td>\n",
       "      <td>0.320001</td>\n",
       "      <td>2248.045190</td>\n",
       "      <td>3060.088065</td>\n",
       "      <td>3775.289554</td>\n",
       "      <td>2603.479282</td>\n",
       "      <td>2592.849992</td>\n",
       "      <td>3198.384797</td>\n",
       "      <td>4148.778791</td>\n",
       "      <td>2974.858992</td>\n",
       "      <td>1.0</td>\n",
       "    </tr>\n",
       "    <tr>\n",
       "      <th>2</th>\n",
       "      <td>-12.029185</td>\n",
       "      <td>-14.055901</td>\n",
       "      <td>-12.547398</td>\n",
       "      <td>-8.222271</td>\n",
       "      <td>3037.865892</td>\n",
       "      <td>3235.966473</td>\n",
       "      <td>2374.143801</td>\n",
       "      <td>2450.055932</td>\n",
       "      <td>796.765158</td>\n",
       "      <td>741.528246</td>\n",
       "      <td>...</td>\n",
       "      <td>0.217916</td>\n",
       "      <td>2849.419268</td>\n",
       "      <td>3271.537042</td>\n",
       "      <td>2430.001785</td>\n",
       "      <td>2254.506196</td>\n",
       "      <td>3182.948728</td>\n",
       "      <td>3448.907086</td>\n",
       "      <td>2667.811418</td>\n",
       "      <td>2324.849553</td>\n",
       "      <td>1.0</td>\n",
       "    </tr>\n",
       "    <tr>\n",
       "      <th>3</th>\n",
       "      <td>-15.718212</td>\n",
       "      <td>-14.757593</td>\n",
       "      <td>-13.748250</td>\n",
       "      <td>-14.320380</td>\n",
       "      <td>3797.951192</td>\n",
       "      <td>3579.451342</td>\n",
       "      <td>2958.206395</td>\n",
       "      <td>2342.686877</td>\n",
       "      <td>2594.177625</td>\n",
       "      <td>1887.508344</td>\n",
       "      <td>...</td>\n",
       "      <td>0.321437</td>\n",
       "      <td>3913.526497</td>\n",
       "      <td>3575.242249</td>\n",
       "      <td>3089.043715</td>\n",
       "      <td>2451.464607</td>\n",
       "      <td>4217.652093</td>\n",
       "      <td>3635.699848</td>\n",
       "      <td>3335.017144</td>\n",
       "      <td>2689.928443</td>\n",
       "      <td>1.0</td>\n",
       "    </tr>\n",
       "    <tr>\n",
       "      <th>4</th>\n",
       "      <td>-9.934025</td>\n",
       "      <td>-6.653412</td>\n",
       "      <td>-9.176670</td>\n",
       "      <td>-7.625073</td>\n",
       "      <td>3922.326969</td>\n",
       "      <td>1882.982398</td>\n",
       "      <td>5780.883901</td>\n",
       "      <td>3675.777050</td>\n",
       "      <td>1300.774054</td>\n",
       "      <td>511.824188</td>\n",
       "      <td>...</td>\n",
       "      <td>0.458105</td>\n",
       "      <td>3645.751528</td>\n",
       "      <td>1888.833078</td>\n",
       "      <td>6878.437571</td>\n",
       "      <td>3936.514454</td>\n",
       "      <td>3975.322629</td>\n",
       "      <td>2021.584636</td>\n",
       "      <td>7133.320675</td>\n",
       "      <td>4262.261776</td>\n",
       "      <td>1.0</td>\n",
       "    </tr>\n",
       "  </tbody>\n",
       "</table>\n",
       "<p>5 rows × 73 columns</p>\n",
       "</div>"
      ],
      "text/plain": [
       "   S2_B2_03_mean  S2_B2_36_mean  S2_B2_69_mean  S2_B2_912_mean  S2_B9_03_mean  \\\n",
       "0     -14.093836      -9.991954     -10.943987      -12.976085    2171.539166   \n",
       "1     -12.297835      -9.635970      -9.414786      -10.779338    2562.458277   \n",
       "2     -12.029185     -14.055901     -12.547398       -8.222271    3037.865892   \n",
       "3     -15.718212     -14.757593     -13.748250      -14.320380    3797.951192   \n",
       "4      -9.934025      -6.653412      -9.176670       -7.625073    3922.326969   \n",
       "\n",
       "   S2_B9_36_mean  S2_B9_69_mean  S2_B9_912_mean  S2_B6_03_mean  S2_B6_36_mean  \\\n",
       "0    2155.125001    2522.893043     2073.676877    1406.921506     964.716930   \n",
       "1    3196.184811    3887.110039     2643.928820     936.083670     859.240854   \n",
       "2    3235.966473    2374.143801     2450.055932     796.765158     741.528246   \n",
       "3    3579.451342    2958.206395     2342.686877    2594.177625    1887.508344   \n",
       "4    1882.982398    5780.883901     3675.777050    1300.774054     511.824188   \n",
       "\n",
       "   ...  NDVI_912_mean  S2_B8A_03_mean  S2_B8A_36_mean  S2_B8A_69_mean  \\\n",
       "0  ...       0.370383     2106.535374     2271.992818     2610.521527   \n",
       "1  ...       0.320001     2248.045190     3060.088065     3775.289554   \n",
       "2  ...       0.217916     2849.419268     3271.537042     2430.001785   \n",
       "3  ...       0.321437     3913.526497     3575.242249     3089.043715   \n",
       "4  ...       0.458105     3645.751528     1888.833078     6878.437571   \n",
       "\n",
       "   S2_B8A_912_mean  S2_B11_03_mean  S2_B11_36_mean  S2_B11_69_mean  \\\n",
       "0      2156.724780     2417.803938     2366.037185     2855.235345   \n",
       "1      2603.479282     2592.849992     3198.384797     4148.778791   \n",
       "2      2254.506196     3182.948728     3448.907086     2667.811418   \n",
       "3      2451.464607     4217.652093     3635.699848     3335.017144   \n",
       "4      3936.514454     3975.322629     2021.584636     7133.320675   \n",
       "\n",
       "   S2_B11_912_mean  LABELS  \n",
       "0      2488.196876     0.0  \n",
       "1      2974.858992     1.0  \n",
       "2      2324.849553     1.0  \n",
       "3      2689.928443     1.0  \n",
       "4      4262.261776     1.0  \n",
       "\n",
       "[5 rows x 73 columns]"
      ]
     },
     "execution_count": 24,
     "metadata": {},
     "output_type": "execute_result"
    }
   ],
   "source": [
    "agg_df = agg_over_months(train_df, freq=3)\n",
    "agg_df.head()"
   ]
  },
  {
   "cell_type": "markdown",
   "metadata": {},
   "source": [
    "# Preprocessing"
   ]
  },
  {
   "cell_type": "code",
   "execution_count": null,
   "metadata": {},
   "outputs": [],
   "source": [
    "# Minmax scaling\n",
    "minmax_scaler = MinMaxScaler()\n",
    "train_df[FEATURES] = minmax_scaler.fit_transform(train_df[FEATURES])\n",
    "test_df[FEATURES] = minmax_scaler.fit_transform(test_df[FEATURES])"
   ]
  },
  {
   "cell_type": "markdown",
   "metadata": {},
   "source": [
    "# Cross-validation"
   ]
  },
  {
   "cell_type": "code",
   "execution_count": 25,
   "metadata": {},
   "outputs": [],
   "source": [
    "# function to generate cross-validation splits\n",
    "# already implemented within the Optuna loop\n",
    "def cv_split(train_df, n_splits=3):\n",
    "    x_df = train_df.loc[:, FEATURES]\n",
    "    y_df = train_df.loc[:, \"LABELS\"]\n",
    "    \n",
    "    eval_sets = {}\n",
    "    kfold_cv = StratifiedKFold(n_splits=n_splits, shuffle=True)\n",
    "    for idx, (train_idx, test_idx) in enumerate(kfold_cv.split(x_df, y_df)):\n",
    "        x_train, x_test = x_df.iloc[train_idx], x_df.iloc[test_idx]\n",
    "        y_train, y_test = y_df.iloc[train_idx], y_df.iloc[test_idx]\n",
    "        eval_sets[idx] = {\"train\":(x_train, y_train), \"test\":(x_test, y_test)}\n",
    "    \n",
    "    return eval_sets"
   ]
  },
  {
   "cell_type": "markdown",
   "metadata": {},
   "source": [
    "# LGBM"
   ]
  },
  {
   "cell_type": "code",
   "execution_count": 30,
   "metadata": {},
   "outputs": [],
   "source": [
    "# compute f1 score based on probabilities and threshold\n",
    "def lgbm_f1(y_true, y_proba):\n",
    "    # threshold is not passed as a parameter because LGBM callbacks need only 2 arguments\n",
    "    threshold=0.5\n",
    "    y_pred = np.where(y_proba > threshold, 1, 0)\n",
    "    eval_score = f1_score(y_true, y_pred)\n",
    "    return (\"f1_score\", eval_score, True)\n",
    "\n",
    "# double f1 loss\n",
    "def double_soft_f1_loss(y_true, y_pred):\n",
    "    # inspired from: https://towardsdatascience.com/the-unknown-benefits-of-using-a-soft-f1-loss-in-classification-systems-753902c0105d\n",
    "    tp = np.sum(y_pred * y_true)\n",
    "    fp = np.sum(y_pred * (1-y_true))\n",
    "    fn = np.sum((1-y_pred) * y_true)\n",
    "    tn = np.sum((1-y_pred) * (1-y_true))\n",
    "    \n",
    "    soft_f1_cls1 = 2*tp / (2*tp + fn + fp + 1e-16)\n",
    "    soft_f1_cls0 = 2*tn / (2*tn + fn + fp + 1e-16)\n",
    "    \n",
    "    cost_cls1 = 1 - soft_f1_cls1\n",
    "    cost_cls0 = 1 - soft_f1_cls0\n",
    "    \n",
    "    cost = 0.5 * (cost_cls1 + cost_cls0)\n",
    "    macro_cost = np.mean(cost)\n",
    "    return (\"double_soft_f1_loss\", macro_cost, True)\n",
    "\n",
    "# Plot every eval metrics from the lightGBM model object\n",
    "def plot_evals(model):\n",
    "    sets = list(model.evals_result_.keys())\n",
    "    n_sets = len(sets)\n",
    "    metrics = list(model.evals_result_[sets[0]].keys())\n",
    "    n_metrics = len(metrics)\n",
    "    \n",
    "    fig, ax = plt.subplots(1, n_metrics)\n",
    "    \n",
    "    for i, seti in enumerate(sets):\n",
    "        for j, metric in enumerate(metrics):\n",
    "            ax[j].set_title(f\"{metric}\")\n",
    "            ax[j].plot(model.evals_result_[seti][metric], label=f\"{seti}\")\n",
    "\n",
    "# train a single LGBM classifier\n",
    "def train_lgbm(eval_sets, **hyperparams):\n",
    "    clf = LGBMClassifier(\n",
    "        objective=\"binary\",\n",
    "        n_estimators=100,\n",
    "        learning_rate=0.01,\n",
    "        boosting_type=\"gbdt\",\n",
    "        subsample=0.5,\n",
    "        subsample_freq=1,\n",
    "        num_leaves=31,\n",
    "        max_depth=-1,\n",
    "        boost_from_average=False,\n",
    "        n_jobs=8,     \n",
    "    )\n",
    "    \n",
    "    clf.fit(\n",
    "        eval_sets[0][\"train\"][0], eval_sets[0][\"train\"][1],\n",
    "        eval_set=[(eval_sets[0][\"test\"][0], eval_sets[0][\"test\"][1])],\n",
    "        eval_metric=[\"logloss\", double_soft_f1_loss, lgbm_f1],\n",
    "        verbose=False,\n",
    "    )\n",
    "    \n",
    "    return clf"
   ]
  },
  {
   "cell_type": "code",
   "execution_count": 31,
   "metadata": {},
   "outputs": [],
   "source": [
    "eval_sets = cv_split(train_df, n_splits=2)"
   ]
  },
  {
   "cell_type": "code",
   "execution_count": 35,
   "metadata": {},
   "outputs": [
    {
     "name": "stderr",
     "output_type": "stream",
     "text": [
      "C:\\Users\\TJ\\miniconda3\\envs\\kaggle2\\lib\\site-packages\\lightgbm\\sklearn.py:736: UserWarning: 'verbose' argument is deprecated and will be removed in a future release of LightGBM. Pass 'log_evaluation()' callback via 'callbacks' argument instead.\n",
      "  _log_warning(\"'verbose' argument is deprecated and will be removed in a future release of LightGBM. \"\n"
     ]
    },
    {
     "data": {
      "image/png": "[encoded data removed]",
      "image/svg+xml": "<?xml version=\"1.0\" encoding=\"utf-8\" standalone=\"no\"?>\n<!DOCTYPE svg PUBLIC \"-//W3C//DTD SVG 1.1//EN\"\n  \"http://www.w3.org/Graphics/SVG/1.1/DTD/svg11.dtd\">\n<svg xmlns:xlink=\"http://www.w3.org/1999/xlink\" width=\"722.028462pt\" height=\"372.35625pt\" viewBox=\"0 0 722.028462 372.35625\" xmlns=\"http://www.w3.org/2000/svg\" version=\"1.1\">\n <metadata>\n  <rdf:RDF xmlns:dc=\"http://purl.org/dc/elements/1.1/\" xmlns:cc=\"http://creativecommons.org/ns#\" xmlns:rdf=\"http://www.w3.org/1999/02/22-rdf-syntax-ns#\">\n   <cc:Work>\n    <dc:type rdf:resource=\"http://purl.org/dc/dcmitype/StillImage\"/>\n    <dc:date>2021-11-28T10:46:00.224663</dc:date>\n    <dc:format>image/svg+xml</dc:format>\n    <dc:creator>\n     <cc:Agent>\n      <dc:title>Matplotlib v3.5.0, https://matplotlib.org/</dc:title>\n     </cc:Agent>\n    </dc:creator>\n   </cc:Work>\n  </rdf:RDF>\n </metadata>\n <defs>\n  <style type=\"text/css\">*{stroke-linejoin: round; stroke-linecap: butt}</style>\n </defs>\n <g id=\"figure_1\">\n  <g id=\"patch_1\">\n   <path d=\"M 0 372.35625 \nL 722.028462 372.35625 \nL 722.028462 0 \nL 0 0 \nL 0 372.35625 \nz\n\" style=\"fill: none\"/>\n  </g>\n  <g id=\"axes_1\">\n   <g id=\"patch_2\">\n    <path d=\"M 42.828125 348.478125 \nL 239.769301 348.478125 \nL 239.769301 22.318125 \nL 42.828125 22.318125 \nz\n\" style=\"fill: #ffffff\"/>\n   </g>\n   <g id=\"matplotlib.axis_1\">\n    <g id=\"xtick_1\">\n     <g id=\"line2d_1\">\n      <defs>\n       <path id=\"m309494b12d\" d=\"M 0 0 \nL 0 3.5 \n\" style=\"stroke: #000000; stroke-width: 0.8\"/>\n      </defs>\n      <g>\n       <use xlink:href=\"#m309494b12d\" x=\"51.779997\" y=\"348.478125\" style=\"stroke: #000000; stroke-width: 0.8\"/>\n      </g>\n     </g>\n     <g id=\"text_1\">\n      <!-- 0 -->\n      <g transform=\"translate(48.598747 363.076563)scale(0.1 -0.1)\">\n       <defs>\n        <path id=\"DejaVuSans-30\" d=\"M 2034 4250 \nQ 1547 4250 1301 3770 \nQ 1056 3291 1056 2328 \nQ 1056 1369 1301 889 \nQ 1547 409 2034 409 \nQ 2525 409 2770 889 \nQ 3016 1369 3016 2328 \nQ 3016 3291 2770 3770 \nQ 2525 4250 2034 4250 \nz\nM 2034 4750 \nQ 2819 4750 3233 4129 \nQ 3647 3509 3647 2328 \nQ 3647 1150 3233 529 \nQ 2819 -91 2034 -91 \nQ 1250 -91 836 529 \nQ 422 1150 422 2328 \nQ 422 3509 836 4129 \nQ 1250 4750 2034 4750 \nz\n\" transform=\"scale(0.015625)\"/>\n       </defs>\n       <use xlink:href=\"#DejaVuSans-30\"/>\n      </g>\n     </g>\n    </g>\n    <g id=\"xtick_2\">\n     <g id=\"line2d_2\">\n      <g>\n       <use xlink:href=\"#m309494b12d\" x=\"87.949175\" y=\"348.478125\" style=\"stroke: #000000; stroke-width: 0.8\"/>\n      </g>\n     </g>\n     <g id=\"text_2\">\n      <!-- 20 -->\n      <g transform=\"translate(81.586675 363.076563)scale(0.1 -0.1)\">\n       <defs>\n        <path id=\"DejaVuSans-32\" d=\"M 1228 531 \nL 3431 531 \nL 3431 0 \nL 469 0 \nL 469 531 \nQ 828 903 1448 1529 \nQ 2069 2156 2228 2338 \nQ 2531 2678 2651 2914 \nQ 2772 3150 2772 3378 \nQ 2772 3750 2511 3984 \nQ 2250 4219 1831 4219 \nQ 1534 4219 1204 4116 \nQ 875 4013 500 3803 \nL 500 4441 \nQ 881 4594 1212 4672 \nQ 1544 4750 1819 4750 \nQ 2544 4750 2975 4387 \nQ 3406 4025 3406 3419 \nQ 3406 3131 3298 2873 \nQ 3191 2616 2906 2266 \nQ 2828 2175 2409 1742 \nQ 1991 1309 1228 531 \nz\n\" transform=\"scale(0.015625)\"/>\n       </defs>\n       <use xlink:href=\"#DejaVuSans-32\"/>\n       <use xlink:href=\"#DejaVuSans-30\" x=\"63.623047\"/>\n      </g>\n     </g>\n    </g>\n    <g id=\"xtick_3\">\n     <g id=\"line2d_3\">\n      <g>\n       <use xlink:href=\"#m309494b12d\" x=\"124.118353\" y=\"348.478125\" style=\"stroke: #000000; stroke-width: 0.8\"/>\n      </g>\n     </g>\n     <g id=\"text_3\">\n      <!-- 40 -->\n      <g transform=\"translate(117.755853 363.076563)scale(0.1 -0.1)\">\n       <defs>\n        <path id=\"DejaVuSans-34\" d=\"M 2419 4116 \nL 825 1625 \nL 2419 1625 \nL 2419 4116 \nz\nM 2253 4666 \nL 3047 4666 \nL 3047 1625 \nL 3713 1625 \nL 3713 1100 \nL 3047 1100 \nL 3047 0 \nL 2419 0 \nL 2419 1100 \nL 313 1100 \nL 313 1709 \nL 2253 4666 \nz\n\" transform=\"scale(0.015625)\"/>\n       </defs>\n       <use xlink:href=\"#DejaVuSans-34\"/>\n       <use xlink:href=\"#DejaVuSans-30\" x=\"63.623047\"/>\n      </g>\n     </g>\n    </g>\n    <g id=\"xtick_4\">\n     <g id=\"line2d_4\">\n      <g>\n       <use xlink:href=\"#m309494b12d\" x=\"160.287532\" y=\"348.478125\" style=\"stroke: #000000; stroke-width: 0.8\"/>\n      </g>\n     </g>\n     <g id=\"text_4\">\n      <!-- 60 -->\n      <g transform=\"translate(153.925032 363.076563)scale(0.1 -0.1)\">\n       <defs>\n        <path id=\"DejaVuSans-36\" d=\"M 2113 2584 \nQ 1688 2584 1439 2293 \nQ 1191 2003 1191 1497 \nQ 1191 994 1439 701 \nQ 1688 409 2113 409 \nQ 2538 409 2786 701 \nQ 3034 994 3034 1497 \nQ 3034 2003 2786 2293 \nQ 2538 2584 2113 2584 \nz\nM 3366 4563 \nL 3366 3988 \nQ 3128 4100 2886 4159 \nQ 2644 4219 2406 4219 \nQ 1781 4219 1451 3797 \nQ 1122 3375 1075 2522 \nQ 1259 2794 1537 2939 \nQ 1816 3084 2150 3084 \nQ 2853 3084 3261 2657 \nQ 3669 2231 3669 1497 \nQ 3669 778 3244 343 \nQ 2819 -91 2113 -91 \nQ 1303 -91 875 529 \nQ 447 1150 447 2328 \nQ 447 3434 972 4092 \nQ 1497 4750 2381 4750 \nQ 2619 4750 2861 4703 \nQ 3103 4656 3366 4563 \nz\n\" transform=\"scale(0.015625)\"/>\n       </defs>\n       <use xlink:href=\"#DejaVuSans-36\"/>\n       <use xlink:href=\"#DejaVuSans-30\" x=\"63.623047\"/>\n      </g>\n     </g>\n    </g>\n    <g id=\"xtick_5\">\n     <g id=\"line2d_5\">\n      <g>\n       <use xlink:href=\"#m309494b12d\" x=\"196.45671\" y=\"348.478125\" style=\"stroke: #000000; stroke-width: 0.8\"/>\n      </g>\n     </g>\n     <g id=\"text_5\">\n      <!-- 80 -->\n      <g transform=\"translate(190.09421 363.076563)scale(0.1 -0.1)\">\n       <defs>\n        <path id=\"DejaVuSans-38\" d=\"M 2034 2216 \nQ 1584 2216 1326 1975 \nQ 1069 1734 1069 1313 \nQ 1069 891 1326 650 \nQ 1584 409 2034 409 \nQ 2484 409 2743 651 \nQ 3003 894 3003 1313 \nQ 3003 1734 2745 1975 \nQ 2488 2216 2034 2216 \nz\nM 1403 2484 \nQ 997 2584 770 2862 \nQ 544 3141 544 3541 \nQ 544 4100 942 4425 \nQ 1341 4750 2034 4750 \nQ 2731 4750 3128 4425 \nQ 3525 4100 3525 3541 \nQ 3525 3141 3298 2862 \nQ 3072 2584 2669 2484 \nQ 3125 2378 3379 2068 \nQ 3634 1759 3634 1313 \nQ 3634 634 3220 271 \nQ 2806 -91 2034 -91 \nQ 1263 -91 848 271 \nQ 434 634 434 1313 \nQ 434 1759 690 2068 \nQ 947 2378 1403 2484 \nz\nM 1172 3481 \nQ 1172 3119 1398 2916 \nQ 1625 2713 2034 2713 \nQ 2441 2713 2670 2916 \nQ 2900 3119 2900 3481 \nQ 2900 3844 2670 4047 \nQ 2441 4250 2034 4250 \nQ 1625 4250 1398 4047 \nQ 1172 3844 1172 3481 \nz\n\" transform=\"scale(0.015625)\"/>\n       </defs>\n       <use xlink:href=\"#DejaVuSans-38\"/>\n       <use xlink:href=\"#DejaVuSans-30\" x=\"63.623047\"/>\n      </g>\n     </g>\n    </g>\n    <g id=\"xtick_6\">\n     <g id=\"line2d_6\">\n      <g>\n       <use xlink:href=\"#m309494b12d\" x=\"232.625889\" y=\"348.478125\" style=\"stroke: #000000; stroke-width: 0.8\"/>\n      </g>\n     </g>\n     <g id=\"text_6\">\n      <!-- 100 -->\n      <g transform=\"translate(223.082139 363.076563)scale(0.1 -0.1)\">\n       <defs>\n        <path id=\"DejaVuSans-31\" d=\"M 794 531 \nL 1825 531 \nL 1825 4091 \nL 703 3866 \nL 703 4441 \nL 1819 4666 \nL 2450 4666 \nL 2450 531 \nL 3481 531 \nL 3481 0 \nL 794 0 \nL 794 531 \nz\n\" transform=\"scale(0.015625)\"/>\n       </defs>\n       <use xlink:href=\"#DejaVuSans-31\"/>\n       <use xlink:href=\"#DejaVuSans-30\" x=\"63.623047\"/>\n       <use xlink:href=\"#DejaVuSans-30\" x=\"127.246094\"/>\n      </g>\n     </g>\n    </g>\n   </g>\n   <g id=\"matplotlib.axis_2\">\n    <g id=\"ytick_1\">\n     <g id=\"line2d_7\">\n      <defs>\n       <path id=\"m425ad14a7f\" d=\"M 0 0 \nL -3.5 0 \n\" style=\"stroke: #000000; stroke-width: 0.8\"/>\n      </defs>\n      <g>\n       <use xlink:href=\"#m425ad14a7f\" x=\"42.828125\" y=\"322.547663\" style=\"stroke: #000000; stroke-width: 0.8\"/>\n      </g>\n     </g>\n     <g id=\"text_7\">\n      <!-- 0.500 -->\n      <g transform=\"translate(7.2 326.346881)scale(0.1 -0.1)\">\n       <defs>\n        <path id=\"DejaVuSans-2e\" d=\"M 684 794 \nL 1344 794 \nL 1344 0 \nL 684 0 \nL 684 794 \nz\n\" transform=\"scale(0.015625)\"/>\n        <path id=\"DejaVuSans-35\" d=\"M 691 4666 \nL 3169 4666 \nL 3169 4134 \nL 1269 4134 \nL 1269 2991 \nQ 1406 3038 1543 3061 \nQ 1681 3084 1819 3084 \nQ 2600 3084 3056 2656 \nQ 3513 2228 3513 1497 \nQ 3513 744 3044 326 \nQ 2575 -91 1722 -91 \nQ 1428 -91 1123 -41 \nQ 819 9 494 109 \nL 494 744 \nQ 775 591 1075 516 \nQ 1375 441 1709 441 \nQ 2250 441 2565 725 \nQ 2881 1009 2881 1497 \nQ 2881 1984 2565 2268 \nQ 2250 2553 1709 2553 \nQ 1456 2553 1204 2497 \nQ 953 2441 691 2322 \nL 691 4666 \nz\n\" transform=\"scale(0.015625)\"/>\n       </defs>\n       <use xlink:href=\"#DejaVuSans-30\"/>\n       <use xlink:href=\"#DejaVuSans-2e\" x=\"63.623047\"/>\n       <use xlink:href=\"#DejaVuSans-35\" x=\"95.410156\"/>\n       <use xlink:href=\"#DejaVuSans-30\" x=\"159.033203\"/>\n       <use xlink:href=\"#DejaVuSans-30\" x=\"222.65625\"/>\n      </g>\n     </g>\n    </g>\n    <g id=\"ytick_2\">\n     <g id=\"line2d_8\">\n      <g>\n       <use xlink:href=\"#m425ad14a7f\" x=\"42.828125\" y=\"284.844724\" style=\"stroke: #000000; stroke-width: 0.8\"/>\n      </g>\n     </g>\n     <g id=\"text_8\">\n      <!-- 0.525 -->\n      <g transform=\"translate(7.2 288.643943)scale(0.1 -0.1)\">\n       <use xlink:href=\"#DejaVuSans-30\"/>\n       <use xlink:href=\"#DejaVuSans-2e\" x=\"63.623047\"/>\n       <use xlink:href=\"#DejaVuSans-35\" x=\"95.410156\"/>\n       <use xlink:href=\"#DejaVuSans-32\" x=\"159.033203\"/>\n       <use xlink:href=\"#DejaVuSans-35\" x=\"222.65625\"/>\n      </g>\n     </g>\n    </g>\n    <g id=\"ytick_3\">\n     <g id=\"line2d_9\">\n      <g>\n       <use xlink:href=\"#m425ad14a7f\" x=\"42.828125\" y=\"247.141785\" style=\"stroke: #000000; stroke-width: 0.8\"/>\n      </g>\n     </g>\n     <g id=\"text_9\">\n      <!-- 0.550 -->\n      <g transform=\"translate(7.2 250.941004)scale(0.1 -0.1)\">\n       <use xlink:href=\"#DejaVuSans-30\"/>\n       <use xlink:href=\"#DejaVuSans-2e\" x=\"63.623047\"/>\n       <use xlink:href=\"#DejaVuSans-35\" x=\"95.410156\"/>\n       <use xlink:href=\"#DejaVuSans-35\" x=\"159.033203\"/>\n       <use xlink:href=\"#DejaVuSans-30\" x=\"222.65625\"/>\n      </g>\n     </g>\n    </g>\n    <g id=\"ytick_4\">\n     <g id=\"line2d_10\">\n      <g>\n       <use xlink:href=\"#m425ad14a7f\" x=\"42.828125\" y=\"209.438846\" style=\"stroke: #000000; stroke-width: 0.8\"/>\n      </g>\n     </g>\n     <g id=\"text_10\">\n      <!-- 0.575 -->\n      <g transform=\"translate(7.2 213.238065)scale(0.1 -0.1)\">\n       <defs>\n        <path id=\"DejaVuSans-37\" d=\"M 525 4666 \nL 3525 4666 \nL 3525 4397 \nL 1831 0 \nL 1172 0 \nL 2766 4134 \nL 525 4134 \nL 525 4666 \nz\n\" transform=\"scale(0.015625)\"/>\n       </defs>\n       <use xlink:href=\"#DejaVuSans-30\"/>\n       <use xlink:href=\"#DejaVuSans-2e\" x=\"63.623047\"/>\n       <use xlink:href=\"#DejaVuSans-35\" x=\"95.410156\"/>\n       <use xlink:href=\"#DejaVuSans-37\" x=\"159.033203\"/>\n       <use xlink:href=\"#DejaVuSans-35\" x=\"222.65625\"/>\n      </g>\n     </g>\n    </g>\n    <g id=\"ytick_5\">\n     <g id=\"line2d_11\">\n      <g>\n       <use xlink:href=\"#m425ad14a7f\" x=\"42.828125\" y=\"171.735908\" style=\"stroke: #000000; stroke-width: 0.8\"/>\n      </g>\n     </g>\n     <g id=\"text_11\">\n      <!-- 0.600 -->\n      <g transform=\"translate(7.2 175.535126)scale(0.1 -0.1)\">\n       <use xlink:href=\"#DejaVuSans-30\"/>\n       <use xlink:href=\"#DejaVuSans-2e\" x=\"63.623047\"/>\n       <use xlink:href=\"#DejaVuSans-36\" x=\"95.410156\"/>\n       <use xlink:href=\"#DejaVuSans-30\" x=\"159.033203\"/>\n       <use xlink:href=\"#DejaVuSans-30\" x=\"222.65625\"/>\n      </g>\n     </g>\n    </g>\n    <g id=\"ytick_6\">\n     <g id=\"line2d_12\">\n      <g>\n       <use xlink:href=\"#m425ad14a7f\" x=\"42.828125\" y=\"134.032969\" style=\"stroke: #000000; stroke-width: 0.8\"/>\n      </g>\n     </g>\n     <g id=\"text_12\">\n      <!-- 0.625 -->\n      <g transform=\"translate(7.2 137.832188)scale(0.1 -0.1)\">\n       <use xlink:href=\"#DejaVuSans-30\"/>\n       <use xlink:href=\"#DejaVuSans-2e\" x=\"63.623047\"/>\n       <use xlink:href=\"#DejaVuSans-36\" x=\"95.410156\"/>\n       <use xlink:href=\"#DejaVuSans-32\" x=\"159.033203\"/>\n       <use xlink:href=\"#DejaVuSans-35\" x=\"222.65625\"/>\n      </g>\n     </g>\n    </g>\n    <g id=\"ytick_7\">\n     <g id=\"line2d_13\">\n      <g>\n       <use xlink:href=\"#m425ad14a7f\" x=\"42.828125\" y=\"96.33003\" style=\"stroke: #000000; stroke-width: 0.8\"/>\n      </g>\n     </g>\n     <g id=\"text_13\">\n      <!-- 0.650 -->\n      <g transform=\"translate(7.2 100.129249)scale(0.1 -0.1)\">\n       <use xlink:href=\"#DejaVuSans-30\"/>\n       <use xlink:href=\"#DejaVuSans-2e\" x=\"63.623047\"/>\n       <use xlink:href=\"#DejaVuSans-36\" x=\"95.410156\"/>\n       <use xlink:href=\"#DejaVuSans-35\" x=\"159.033203\"/>\n       <use xlink:href=\"#DejaVuSans-30\" x=\"222.65625\"/>\n      </g>\n     </g>\n    </g>\n    <g id=\"ytick_8\">\n     <g id=\"line2d_14\">\n      <g>\n       <use xlink:href=\"#m425ad14a7f\" x=\"42.828125\" y=\"58.627091\" style=\"stroke: #000000; stroke-width: 0.8\"/>\n      </g>\n     </g>\n     <g id=\"text_14\">\n      <!-- 0.675 -->\n      <g transform=\"translate(7.2 62.42631)scale(0.1 -0.1)\">\n       <use xlink:href=\"#DejaVuSans-30\"/>\n       <use xlink:href=\"#DejaVuSans-2e\" x=\"63.623047\"/>\n       <use xlink:href=\"#DejaVuSans-36\" x=\"95.410156\"/>\n       <use xlink:href=\"#DejaVuSans-37\" x=\"159.033203\"/>\n       <use xlink:href=\"#DejaVuSans-35\" x=\"222.65625\"/>\n      </g>\n     </g>\n    </g>\n   </g>\n   <g id=\"line2d_15\">\n    <path d=\"M 51.779997 37.14358 \nL 53.588456 42.816933 \nL 55.396914 48.377716 \nL 57.205373 53.831398 \nL 59.013832 59.109402 \nL 60.822291 64.432796 \nL 62.63075 69.661342 \nL 64.439209 74.818851 \nL 66.247668 79.892749 \nL 68.056127 84.807485 \nL 69.864586 89.673356 \nL 71.673045 94.472916 \nL 73.481504 99.216355 \nL 75.289963 103.924704 \nL 77.098422 108.522148 \nL 78.90688 112.949031 \nL 80.715339 117.498831 \nL 82.523798 122.003328 \nL 84.332257 126.350298 \nL 86.140716 130.513865 \nL 87.949175 134.689254 \nL 89.757634 138.808065 \nL 91.566093 142.782606 \nL 93.374552 146.716136 \nL 95.183011 150.639678 \nL 96.99147 154.61731 \nL 98.799929 158.368643 \nL 100.608388 162.017062 \nL 102.416846 165.671088 \nL 104.225305 169.276743 \nL 106.033764 172.848051 \nL 107.842223 176.458043 \nL 109.650682 180.048833 \nL 111.459141 183.51581 \nL 113.2676 186.896493 \nL 115.076059 190.257 \nL 116.884518 193.689081 \nL 118.692977 196.861729 \nL 120.501436 200.134471 \nL 122.309895 203.319326 \nL 124.118353 206.450746 \nL 125.926812 209.48875 \nL 127.735271 212.598457 \nL 129.54373 215.551504 \nL 131.352189 218.396031 \nL 133.160648 221.385741 \nL 134.969107 224.206945 \nL 136.777566 226.982775 \nL 138.586025 229.715402 \nL 140.394484 232.590235 \nL 142.202943 235.326375 \nL 144.011402 238.107369 \nL 145.819861 240.683692 \nL 147.628319 243.275928 \nL 149.436778 245.758657 \nL 151.245237 248.242823 \nL 153.053696 250.73324 \nL 154.862155 253.149897 \nL 156.670614 255.43846 \nL 158.479073 257.92349 \nL 160.287532 260.316707 \nL 162.095991 262.751993 \nL 163.90445 265.056427 \nL 165.712909 267.362248 \nL 167.521368 269.62222 \nL 169.329827 271.850548 \nL 171.138285 274.142552 \nL 172.946744 276.377601 \nL 174.755203 278.448085 \nL 176.563662 280.493973 \nL 178.372121 282.506714 \nL 180.18058 284.548595 \nL 181.989039 286.492662 \nL 183.797498 288.472044 \nL 185.605957 290.456814 \nL 187.414416 292.450481 \nL 189.222875 294.341768 \nL 191.031334 296.287084 \nL 192.839792 298.104247 \nL 194.648251 300.004251 \nL 196.45671 301.846971 \nL 198.265169 303.747476 \nL 200.073628 305.58911 \nL 201.882087 307.339138 \nL 203.690546 309.110102 \nL 205.499005 310.887984 \nL 207.307464 312.669476 \nL 209.115923 314.40557 \nL 210.924382 315.994852 \nL 212.732841 317.676975 \nL 214.5413 319.254917 \nL 216.349758 320.912414 \nL 218.158217 322.495164 \nL 219.966676 324.136386 \nL 221.775135 325.796264 \nL 223.583594 327.358062 \nL 225.392053 328.97656 \nL 227.200512 330.550224 \nL 229.008971 332.099413 \nL 230.81743 333.65267 \n\" clip-path=\"url(#pa21bb388a4)\" style=\"fill: none; stroke: #1f77b4; stroke-width: 1.5; stroke-linecap: square\"/>\n   </g>\n   <g id=\"patch_3\">\n    <path d=\"M 42.828125 348.478125 \nL 42.828125 22.318125 \n\" style=\"fill: none; stroke: #000000; stroke-width: 0.8; stroke-linejoin: miter; stroke-linecap: square\"/>\n   </g>\n   <g id=\"patch_4\">\n    <path d=\"M 239.769301 348.478125 \nL 239.769301 22.318125 \n\" style=\"fill: none; stroke: #000000; stroke-width: 0.8; stroke-linejoin: miter; stroke-linecap: square\"/>\n   </g>\n   <g id=\"patch_5\">\n    <path d=\"M 42.828125 348.478125 \nL 239.769301 348.478125 \n\" style=\"fill: none; stroke: #000000; stroke-width: 0.8; stroke-linejoin: miter; stroke-linecap: square\"/>\n   </g>\n   <g id=\"patch_6\">\n    <path d=\"M 42.828125 22.318125 \nL 239.769301 22.318125 \n\" style=\"fill: none; stroke: #000000; stroke-width: 0.8; stroke-linejoin: miter; stroke-linecap: square\"/>\n   </g>\n   <g id=\"text_15\">\n    <!-- binary_logloss -->\n    <g transform=\"translate(98.589026 16.318125)scale(0.12 -0.12)\">\n     <defs>\n      <path id=\"DejaVuSans-62\" d=\"M 3116 1747 \nQ 3116 2381 2855 2742 \nQ 2594 3103 2138 3103 \nQ 1681 3103 1420 2742 \nQ 1159 2381 1159 1747 \nQ 1159 1113 1420 752 \nQ 1681 391 2138 391 \nQ 2594 391 2855 752 \nQ 3116 1113 3116 1747 \nz\nM 1159 2969 \nQ 1341 3281 1617 3432 \nQ 1894 3584 2278 3584 \nQ 2916 3584 3314 3078 \nQ 3713 2572 3713 1747 \nQ 3713 922 3314 415 \nQ 2916 -91 2278 -91 \nQ 1894 -91 1617 61 \nQ 1341 213 1159 525 \nL 1159 0 \nL 581 0 \nL 581 4863 \nL 1159 4863 \nL 1159 2969 \nz\n\" transform=\"scale(0.015625)\"/>\n      <path id=\"DejaVuSans-69\" d=\"M 603 3500 \nL 1178 3500 \nL 1178 0 \nL 603 0 \nL 603 3500 \nz\nM 603 4863 \nL 1178 4863 \nL 1178 4134 \nL 603 4134 \nL 603 4863 \nz\n\" transform=\"scale(0.015625)\"/>\n      <path id=\"DejaVuSans-6e\" d=\"M 3513 2113 \nL 3513 0 \nL 2938 0 \nL 2938 2094 \nQ 2938 2591 2744 2837 \nQ 2550 3084 2163 3084 \nQ 1697 3084 1428 2787 \nQ 1159 2491 1159 1978 \nL 1159 0 \nL 581 0 \nL 581 3500 \nL 1159 3500 \nL 1159 2956 \nQ 1366 3272 1645 3428 \nQ 1925 3584 2291 3584 \nQ 2894 3584 3203 3211 \nQ 3513 2838 3513 2113 \nz\n\" transform=\"scale(0.015625)\"/>\n      <path id=\"DejaVuSans-61\" d=\"M 2194 1759 \nQ 1497 1759 1228 1600 \nQ 959 1441 959 1056 \nQ 959 750 1161 570 \nQ 1363 391 1709 391 \nQ 2188 391 2477 730 \nQ 2766 1069 2766 1631 \nL 2766 1759 \nL 2194 1759 \nz\nM 3341 1997 \nL 3341 0 \nL 2766 0 \nL 2766 531 \nQ 2569 213 2275 61 \nQ 1981 -91 1556 -91 \nQ 1019 -91 701 211 \nQ 384 513 384 1019 \nQ 384 1609 779 1909 \nQ 1175 2209 1959 2209 \nL 2766 2209 \nL 2766 2266 \nQ 2766 2663 2505 2880 \nQ 2244 3097 1772 3097 \nQ 1472 3097 1187 3025 \nQ 903 2953 641 2809 \nL 641 3341 \nQ 956 3463 1253 3523 \nQ 1550 3584 1831 3584 \nQ 2591 3584 2966 3190 \nQ 3341 2797 3341 1997 \nz\n\" transform=\"scale(0.015625)\"/>\n      <path id=\"DejaVuSans-72\" d=\"M 2631 2963 \nQ 2534 3019 2420 3045 \nQ 2306 3072 2169 3072 \nQ 1681 3072 1420 2755 \nQ 1159 2438 1159 1844 \nL 1159 0 \nL 581 0 \nL 581 3500 \nL 1159 3500 \nL 1159 2956 \nQ 1341 3275 1631 3429 \nQ 1922 3584 2338 3584 \nQ 2397 3584 2469 3576 \nQ 2541 3569 2628 3553 \nL 2631 2963 \nz\n\" transform=\"scale(0.015625)\"/>\n      <path id=\"DejaVuSans-79\" d=\"M 2059 -325 \nQ 1816 -950 1584 -1140 \nQ 1353 -1331 966 -1331 \nL 506 -1331 \nL 506 -850 \nL 844 -850 \nQ 1081 -850 1212 -737 \nQ 1344 -625 1503 -206 \nL 1606 56 \nL 191 3500 \nL 800 3500 \nL 1894 763 \nL 2988 3500 \nL 3597 3500 \nL 2059 -325 \nz\n\" transform=\"scale(0.015625)\"/>\n      <path id=\"DejaVuSans-5f\" d=\"M 3263 -1063 \nL 3263 -1509 \nL -63 -1509 \nL -63 -1063 \nL 3263 -1063 \nz\n\" transform=\"scale(0.015625)\"/>\n      <path id=\"DejaVuSans-6c\" d=\"M 603 4863 \nL 1178 4863 \nL 1178 0 \nL 603 0 \nL 603 4863 \nz\n\" transform=\"scale(0.015625)\"/>\n      <path id=\"DejaVuSans-6f\" d=\"M 1959 3097 \nQ 1497 3097 1228 2736 \nQ 959 2375 959 1747 \nQ 959 1119 1226 758 \nQ 1494 397 1959 397 \nQ 2419 397 2687 759 \nQ 2956 1122 2956 1747 \nQ 2956 2369 2687 2733 \nQ 2419 3097 1959 3097 \nz\nM 1959 3584 \nQ 2709 3584 3137 3096 \nQ 3566 2609 3566 1747 \nQ 3566 888 3137 398 \nQ 2709 -91 1959 -91 \nQ 1206 -91 779 398 \nQ 353 888 353 1747 \nQ 353 2609 779 3096 \nQ 1206 3584 1959 3584 \nz\n\" transform=\"scale(0.015625)\"/>\n      <path id=\"DejaVuSans-67\" d=\"M 2906 1791 \nQ 2906 2416 2648 2759 \nQ 2391 3103 1925 3103 \nQ 1463 3103 1205 2759 \nQ 947 2416 947 1791 \nQ 947 1169 1205 825 \nQ 1463 481 1925 481 \nQ 2391 481 2648 825 \nQ 2906 1169 2906 1791 \nz\nM 3481 434 \nQ 3481 -459 3084 -895 \nQ 2688 -1331 1869 -1331 \nQ 1566 -1331 1297 -1286 \nQ 1028 -1241 775 -1147 \nL 775 -588 \nQ 1028 -725 1275 -790 \nQ 1522 -856 1778 -856 \nQ 2344 -856 2625 -561 \nQ 2906 -266 2906 331 \nL 2906 616 \nQ 2728 306 2450 153 \nQ 2172 0 1784 0 \nQ 1141 0 747 490 \nQ 353 981 353 1791 \nQ 353 2603 747 3093 \nQ 1141 3584 1784 3584 \nQ 2172 3584 2450 3431 \nQ 2728 3278 2906 2969 \nL 2906 3500 \nL 3481 3500 \nL 3481 434 \nz\n\" transform=\"scale(0.015625)\"/>\n      <path id=\"DejaVuSans-73\" d=\"M 2834 3397 \nL 2834 2853 \nQ 2591 2978 2328 3040 \nQ 2066 3103 1784 3103 \nQ 1356 3103 1142 2972 \nQ 928 2841 928 2578 \nQ 928 2378 1081 2264 \nQ 1234 2150 1697 2047 \nL 1894 2003 \nQ 2506 1872 2764 1633 \nQ 3022 1394 3022 966 \nQ 3022 478 2636 193 \nQ 2250 -91 1575 -91 \nQ 1294 -91 989 -36 \nQ 684 19 347 128 \nL 347 722 \nQ 666 556 975 473 \nQ 1284 391 1588 391 \nQ 1994 391 2212 530 \nQ 2431 669 2431 922 \nQ 2431 1156 2273 1281 \nQ 2116 1406 1581 1522 \nL 1381 1569 \nQ 847 1681 609 1914 \nQ 372 2147 372 2553 \nQ 372 3047 722 3315 \nQ 1072 3584 1716 3584 \nQ 2034 3584 2315 3537 \nQ 2597 3491 2834 3397 \nz\n\" transform=\"scale(0.015625)\"/>\n     </defs>\n     <use xlink:href=\"#DejaVuSans-62\"/>\n     <use xlink:href=\"#DejaVuSans-69\" x=\"63.476562\"/>\n     <use xlink:href=\"#DejaVuSans-6e\" x=\"91.259766\"/>\n     <use xlink:href=\"#DejaVuSans-61\" x=\"154.638672\"/>\n     <use xlink:href=\"#DejaVuSans-72\" x=\"215.917969\"/>\n     <use xlink:href=\"#DejaVuSans-79\" x=\"257.03125\"/>\n     <use xlink:href=\"#DejaVuSans-5f\" x=\"316.210938\"/>\n     <use xlink:href=\"#DejaVuSans-6c\" x=\"366.210938\"/>\n     <use xlink:href=\"#DejaVuSans-6f\" x=\"393.994141\"/>\n     <use xlink:href=\"#DejaVuSans-67\" x=\"455.175781\"/>\n     <use xlink:href=\"#DejaVuSans-6c\" x=\"518.652344\"/>\n     <use xlink:href=\"#DejaVuSans-6f\" x=\"546.435547\"/>\n     <use xlink:href=\"#DejaVuSans-73\" x=\"607.617188\"/>\n     <use xlink:href=\"#DejaVuSans-73\" x=\"659.716797\"/>\n    </g>\n   </g>\n  </g>\n  <g id=\"axes_2\">\n   <g id=\"patch_7\">\n    <path d=\"M 279.157537 348.478125 \nL 476.098713 348.478125 \nL 476.098713 22.318125 \nL 279.157537 22.318125 \nz\n\" style=\"fill: #ffffff\"/>\n   </g>\n   <g id=\"matplotlib.axis_3\">\n    <g id=\"xtick_7\">\n     <g id=\"line2d_16\">\n      <g>\n       <use xlink:href=\"#m309494b12d\" x=\"288.109408\" y=\"348.478125\" style=\"stroke: #000000; stroke-width: 0.8\"/>\n      </g>\n     </g>\n     <g id=\"text_16\">\n      <!-- 0 -->\n      <g transform=\"translate(284.928158 363.076563)scale(0.1 -0.1)\">\n       <use xlink:href=\"#DejaVuSans-30\"/>\n      </g>\n     </g>\n    </g>\n    <g id=\"xtick_8\">\n     <g id=\"line2d_17\">\n      <g>\n       <use xlink:href=\"#m309494b12d\" x=\"324.278587\" y=\"348.478125\" style=\"stroke: #000000; stroke-width: 0.8\"/>\n      </g>\n     </g>\n     <g id=\"text_17\">\n      <!-- 20 -->\n      <g transform=\"translate(317.916087 363.076563)scale(0.1 -0.1)\">\n       <use xlink:href=\"#DejaVuSans-32\"/>\n       <use xlink:href=\"#DejaVuSans-30\" x=\"63.623047\"/>\n      </g>\n     </g>\n    </g>\n    <g id=\"xtick_9\">\n     <g id=\"line2d_18\">\n      <g>\n       <use xlink:href=\"#m309494b12d\" x=\"360.447765\" y=\"348.478125\" style=\"stroke: #000000; stroke-width: 0.8\"/>\n      </g>\n     </g>\n     <g id=\"text_18\">\n      <!-- 40 -->\n      <g transform=\"translate(354.085265 363.076563)scale(0.1 -0.1)\">\n       <use xlink:href=\"#DejaVuSans-34\"/>\n       <use xlink:href=\"#DejaVuSans-30\" x=\"63.623047\"/>\n      </g>\n     </g>\n    </g>\n    <g id=\"xtick_10\">\n     <g id=\"line2d_19\">\n      <g>\n       <use xlink:href=\"#m309494b12d\" x=\"396.616944\" y=\"348.478125\" style=\"stroke: #000000; stroke-width: 0.8\"/>\n      </g>\n     </g>\n     <g id=\"text_19\">\n      <!-- 60 -->\n      <g transform=\"translate(390.254444 363.076563)scale(0.1 -0.1)\">\n       <use xlink:href=\"#DejaVuSans-36\"/>\n       <use xlink:href=\"#DejaVuSans-30\" x=\"63.623047\"/>\n      </g>\n     </g>\n    </g>\n    <g id=\"xtick_11\">\n     <g id=\"line2d_20\">\n      <g>\n       <use xlink:href=\"#m309494b12d\" x=\"432.786122\" y=\"348.478125\" style=\"stroke: #000000; stroke-width: 0.8\"/>\n      </g>\n     </g>\n     <g id=\"text_20\">\n      <!-- 80 -->\n      <g transform=\"translate(426.423622 363.076563)scale(0.1 -0.1)\">\n       <use xlink:href=\"#DejaVuSans-38\"/>\n       <use xlink:href=\"#DejaVuSans-30\" x=\"63.623047\"/>\n      </g>\n     </g>\n    </g>\n    <g id=\"xtick_12\">\n     <g id=\"line2d_21\">\n      <g>\n       <use xlink:href=\"#m309494b12d\" x=\"468.9553\" y=\"348.478125\" style=\"stroke: #000000; stroke-width: 0.8\"/>\n      </g>\n     </g>\n     <g id=\"text_21\">\n      <!-- 100 -->\n      <g transform=\"translate(459.41155 363.076563)scale(0.1 -0.1)\">\n       <use xlink:href=\"#DejaVuSans-31\"/>\n       <use xlink:href=\"#DejaVuSans-30\" x=\"63.623047\"/>\n       <use xlink:href=\"#DejaVuSans-30\" x=\"127.246094\"/>\n      </g>\n     </g>\n    </g>\n   </g>\n   <g id=\"matplotlib.axis_4\">\n    <g id=\"ytick_9\">\n     <g id=\"line2d_22\">\n      <g>\n       <use xlink:href=\"#m425ad14a7f\" x=\"279.157537\" y=\"343.373615\" style=\"stroke: #000000; stroke-width: 0.8\"/>\n      </g>\n     </g>\n     <g id=\"text_22\">\n      <!-- 0.40 -->\n      <g transform=\"translate(249.891912 347.172834)scale(0.1 -0.1)\">\n       <use xlink:href=\"#DejaVuSans-30\"/>\n       <use xlink:href=\"#DejaVuSans-2e\" x=\"63.623047\"/>\n       <use xlink:href=\"#DejaVuSans-34\" x=\"95.410156\"/>\n       <use xlink:href=\"#DejaVuSans-30\" x=\"159.033203\"/>\n      </g>\n     </g>\n    </g>\n    <g id=\"ytick_10\">\n     <g id=\"line2d_23\">\n      <g>\n       <use xlink:href=\"#m425ad14a7f\" x=\"279.157537\" y=\"289.770638\" style=\"stroke: #000000; stroke-width: 0.8\"/>\n      </g>\n     </g>\n     <g id=\"text_23\">\n      <!-- 0.42 -->\n      <g transform=\"translate(249.891912 293.569856)scale(0.1 -0.1)\">\n       <use xlink:href=\"#DejaVuSans-30\"/>\n       <use xlink:href=\"#DejaVuSans-2e\" x=\"63.623047\"/>\n       <use xlink:href=\"#DejaVuSans-34\" x=\"95.410156\"/>\n       <use xlink:href=\"#DejaVuSans-32\" x=\"159.033203\"/>\n      </g>\n     </g>\n    </g>\n    <g id=\"ytick_11\">\n     <g id=\"line2d_24\">\n      <g>\n       <use xlink:href=\"#m425ad14a7f\" x=\"279.157537\" y=\"236.167661\" style=\"stroke: #000000; stroke-width: 0.8\"/>\n      </g>\n     </g>\n     <g id=\"text_24\">\n      <!-- 0.44 -->\n      <g transform=\"translate(249.891912 239.966879)scale(0.1 -0.1)\">\n       <use xlink:href=\"#DejaVuSans-30\"/>\n       <use xlink:href=\"#DejaVuSans-2e\" x=\"63.623047\"/>\n       <use xlink:href=\"#DejaVuSans-34\" x=\"95.410156\"/>\n       <use xlink:href=\"#DejaVuSans-34\" x=\"159.033203\"/>\n      </g>\n     </g>\n    </g>\n    <g id=\"ytick_12\">\n     <g id=\"line2d_25\">\n      <g>\n       <use xlink:href=\"#m425ad14a7f\" x=\"279.157537\" y=\"182.564683\" style=\"stroke: #000000; stroke-width: 0.8\"/>\n      </g>\n     </g>\n     <g id=\"text_25\">\n      <!-- 0.46 -->\n      <g transform=\"translate(249.891912 186.363902)scale(0.1 -0.1)\">\n       <use xlink:href=\"#DejaVuSans-30\"/>\n       <use xlink:href=\"#DejaVuSans-2e\" x=\"63.623047\"/>\n       <use xlink:href=\"#DejaVuSans-34\" x=\"95.410156\"/>\n       <use xlink:href=\"#DejaVuSans-36\" x=\"159.033203\"/>\n      </g>\n     </g>\n    </g>\n    <g id=\"ytick_13\">\n     <g id=\"line2d_26\">\n      <g>\n       <use xlink:href=\"#m425ad14a7f\" x=\"279.157537\" y=\"128.961706\" style=\"stroke: #000000; stroke-width: 0.8\"/>\n      </g>\n     </g>\n     <g id=\"text_26\">\n      <!-- 0.48 -->\n      <g transform=\"translate(249.891912 132.760925)scale(0.1 -0.1)\">\n       <use xlink:href=\"#DejaVuSans-30\"/>\n       <use xlink:href=\"#DejaVuSans-2e\" x=\"63.623047\"/>\n       <use xlink:href=\"#DejaVuSans-34\" x=\"95.410156\"/>\n       <use xlink:href=\"#DejaVuSans-38\" x=\"159.033203\"/>\n      </g>\n     </g>\n    </g>\n    <g id=\"ytick_14\">\n     <g id=\"line2d_27\">\n      <g>\n       <use xlink:href=\"#m425ad14a7f\" x=\"279.157537\" y=\"75.358729\" style=\"stroke: #000000; stroke-width: 0.8\"/>\n      </g>\n     </g>\n     <g id=\"text_27\">\n      <!-- 0.50 -->\n      <g transform=\"translate(249.891912 79.157948)scale(0.1 -0.1)\">\n       <use xlink:href=\"#DejaVuSans-30\"/>\n       <use xlink:href=\"#DejaVuSans-2e\" x=\"63.623047\"/>\n       <use xlink:href=\"#DejaVuSans-35\" x=\"95.410156\"/>\n       <use xlink:href=\"#DejaVuSans-30\" x=\"159.033203\"/>\n      </g>\n     </g>\n    </g>\n   </g>\n   <g id=\"line2d_28\">\n    <path d=\"M 288.109408 37.14358 \nL 289.917867 41.535496 \nL 291.726326 45.871462 \nL 293.534785 50.150233 \nL 295.343244 54.350728 \nL 297.151703 58.602604 \nL 298.960162 62.818342 \nL 300.768621 67.019649 \nL 302.57708 71.19646 \nL 304.385539 75.290402 \nL 306.193998 79.348465 \nL 308.002457 83.370993 \nL 309.810915 87.366936 \nL 311.619374 91.370575 \nL 313.427833 95.311854 \nL 315.236292 99.132303 \nL 317.044751 103.084819 \nL 318.85321 107.047965 \nL 320.661669 110.874273 \nL 322.470128 114.567265 \nL 324.278587 118.304717 \nL 326.087046 122.032704 \nL 327.895505 125.640987 \nL 329.703964 129.231833 \nL 331.512423 132.856448 \nL 333.320881 136.555302 \nL 335.12934 140.046516 \nL 336.937799 143.456473 \nL 338.746258 146.927955 \nL 340.554717 150.3276 \nL 342.363176 153.739875 \nL 344.171635 157.193361 \nL 345.980094 160.689268 \nL 347.788553 164.049769 \nL 349.597012 167.356496 \nL 351.405471 170.630208 \nL 353.21393 174.043089 \nL 355.022388 177.229978 \nL 356.830847 180.524869 \nL 358.639306 183.769779 \nL 360.447765 186.930995 \nL 362.256224 190.021033 \nL 364.064683 193.20874 \nL 365.873142 196.279187 \nL 367.681601 199.186981 \nL 369.49006 202.312399 \nL 371.298519 205.243658 \nL 373.106978 208.163073 \nL 374.915437 211.024286 \nL 376.723896 214.091535 \nL 378.532354 217.043601 \nL 380.340813 220.028824 \nL 382.149272 222.841789 \nL 383.957731 225.683771 \nL 385.76619 228.425724 \nL 387.574649 231.186315 \nL 389.383108 233.944012 \nL 391.191567 236.604032 \nL 393.000026 239.136247 \nL 394.808485 241.891386 \nL 396.616944 244.599632 \nL 398.425403 247.340362 \nL 400.233862 249.957099 \nL 402.04232 252.543242 \nL 403.850779 255.098062 \nL 405.659238 257.647352 \nL 407.467697 260.308146 \nL 409.276156 262.900846 \nL 411.084615 265.328509 \nL 412.893074 267.679169 \nL 414.701533 270.007993 \nL 416.509992 272.434786 \nL 418.318451 274.724666 \nL 420.12691 277.027265 \nL 421.935369 279.412128 \nL 423.743827 281.801517 \nL 425.552286 284.093132 \nL 427.360745 286.451032 \nL 429.169204 288.663263 \nL 430.977663 291.005879 \nL 432.786122 293.273388 \nL 434.594581 295.677667 \nL 436.40304 297.951691 \nL 438.211499 300.122762 \nL 440.019958 302.358528 \nL 441.828417 304.577949 \nL 443.636876 306.805207 \nL 445.445335 309.020051 \nL 447.253793 311.050438 \nL 449.062252 313.165842 \nL 450.870711 315.165657 \nL 452.67917 317.236048 \nL 454.487629 319.308655 \nL 456.296088 321.363733 \nL 458.104547 323.513957 \nL 459.913006 325.528328 \nL 461.721465 327.572102 \nL 463.529924 329.66356 \nL 465.338383 331.707193 \nL 467.146842 333.65267 \n\" clip-path=\"url(#pdc1a66e782)\" style=\"fill: none; stroke: #1f77b4; stroke-width: 1.5; stroke-linecap: square\"/>\n   </g>\n   <g id=\"patch_8\">\n    <path d=\"M 279.157537 348.478125 \nL 279.157537 22.318125 \n\" style=\"fill: none; stroke: #000000; stroke-width: 0.8; stroke-linejoin: miter; stroke-linecap: square\"/>\n   </g>\n   <g id=\"patch_9\">\n    <path d=\"M 476.098713 348.478125 \nL 476.098713 22.318125 \n\" style=\"fill: none; stroke: #000000; stroke-width: 0.8; stroke-linejoin: miter; stroke-linecap: square\"/>\n   </g>\n   <g id=\"patch_10\">\n    <path d=\"M 279.157537 348.478125 \nL 476.098713 348.478125 \n\" style=\"fill: none; stroke: #000000; stroke-width: 0.8; stroke-linejoin: miter; stroke-linecap: square\"/>\n   </g>\n   <g id=\"patch_11\">\n    <path d=\"M 279.157537 22.318125 \nL 476.098713 22.318125 \n\" style=\"fill: none; stroke: #000000; stroke-width: 0.8; stroke-linejoin: miter; stroke-linecap: square\"/>\n   </g>\n   <g id=\"text_28\">\n    <!-- double_soft_f1_loss -->\n    <g transform=\"translate(319.502187 16.318125)scale(0.12 -0.12)\">\n     <defs>\n      <path id=\"DejaVuSans-64\" d=\"M 2906 2969 \nL 2906 4863 \nL 3481 4863 \nL 3481 0 \nL 2906 0 \nL 2906 525 \nQ 2725 213 2448 61 \nQ 2172 -91 1784 -91 \nQ 1150 -91 751 415 \nQ 353 922 353 1747 \nQ 353 2572 751 3078 \nQ 1150 3584 1784 3584 \nQ 2172 3584 2448 3432 \nQ 2725 3281 2906 2969 \nz\nM 947 1747 \nQ 947 1113 1208 752 \nQ 1469 391 1925 391 \nQ 2381 391 2643 752 \nQ 2906 1113 2906 1747 \nQ 2906 2381 2643 2742 \nQ 2381 3103 1925 3103 \nQ 1469 3103 1208 2742 \nQ 947 2381 947 1747 \nz\n\" transform=\"scale(0.015625)\"/>\n      <path id=\"DejaVuSans-75\" d=\"M 544 1381 \nL 544 3500 \nL 1119 3500 \nL 1119 1403 \nQ 1119 906 1312 657 \nQ 1506 409 1894 409 \nQ 2359 409 2629 706 \nQ 2900 1003 2900 1516 \nL 2900 3500 \nL 3475 3500 \nL 3475 0 \nL 2900 0 \nL 2900 538 \nQ 2691 219 2414 64 \nQ 2138 -91 1772 -91 \nQ 1169 -91 856 284 \nQ 544 659 544 1381 \nz\nM 1991 3584 \nL 1991 3584 \nz\n\" transform=\"scale(0.015625)\"/>\n      <path id=\"DejaVuSans-65\" d=\"M 3597 1894 \nL 3597 1613 \nL 953 1613 \nQ 991 1019 1311 708 \nQ 1631 397 2203 397 \nQ 2534 397 2845 478 \nQ 3156 559 3463 722 \nL 3463 178 \nQ 3153 47 2828 -22 \nQ 2503 -91 2169 -91 \nQ 1331 -91 842 396 \nQ 353 884 353 1716 \nQ 353 2575 817 3079 \nQ 1281 3584 2069 3584 \nQ 2775 3584 3186 3129 \nQ 3597 2675 3597 1894 \nz\nM 3022 2063 \nQ 3016 2534 2758 2815 \nQ 2500 3097 2075 3097 \nQ 1594 3097 1305 2825 \nQ 1016 2553 972 2059 \nL 3022 2063 \nz\n\" transform=\"scale(0.015625)\"/>\n      <path id=\"DejaVuSans-66\" d=\"M 2375 4863 \nL 2375 4384 \nL 1825 4384 \nQ 1516 4384 1395 4259 \nQ 1275 4134 1275 3809 \nL 1275 3500 \nL 2222 3500 \nL 2222 3053 \nL 1275 3053 \nL 1275 0 \nL 697 0 \nL 697 3053 \nL 147 3053 \nL 147 3500 \nL 697 3500 \nL 697 3744 \nQ 697 4328 969 4595 \nQ 1241 4863 1831 4863 \nL 2375 4863 \nz\n\" transform=\"scale(0.015625)\"/>\n      <path id=\"DejaVuSans-74\" d=\"M 1172 4494 \nL 1172 3500 \nL 2356 3500 \nL 2356 3053 \nL 1172 3053 \nL 1172 1153 \nQ 1172 725 1289 603 \nQ 1406 481 1766 481 \nL 2356 481 \nL 2356 0 \nL 1766 0 \nQ 1100 0 847 248 \nQ 594 497 594 1153 \nL 594 3053 \nL 172 3053 \nL 172 3500 \nL 594 3500 \nL 594 4494 \nL 1172 4494 \nz\n\" transform=\"scale(0.015625)\"/>\n     </defs>\n     <use xlink:href=\"#DejaVuSans-64\"/>\n     <use xlink:href=\"#DejaVuSans-6f\" x=\"63.476562\"/>\n     <use xlink:href=\"#DejaVuSans-75\" x=\"124.658203\"/>\n     <use xlink:href=\"#DejaVuSans-62\" x=\"188.037109\"/>\n     <use xlink:href=\"#DejaVuSans-6c\" x=\"251.513672\"/>\n     <use xlink:href=\"#DejaVuSans-65\" x=\"279.296875\"/>\n     <use xlink:href=\"#DejaVuSans-5f\" x=\"340.820312\"/>\n     <use xlink:href=\"#DejaVuSans-73\" x=\"390.820312\"/>\n     <use xlink:href=\"#DejaVuSans-6f\" x=\"442.919922\"/>\n     <use xlink:href=\"#DejaVuSans-66\" x=\"504.101562\"/>\n     <use xlink:href=\"#DejaVuSans-74\" x=\"537.556641\"/>\n     <use xlink:href=\"#DejaVuSans-5f\" x=\"576.765625\"/>\n     <use xlink:href=\"#DejaVuSans-66\" x=\"626.765625\"/>\n     <use xlink:href=\"#DejaVuSans-31\" x=\"661.970703\"/>\n     <use xlink:href=\"#DejaVuSans-5f\" x=\"725.59375\"/>\n     <use xlink:href=\"#DejaVuSans-6c\" x=\"775.59375\"/>\n     <use xlink:href=\"#DejaVuSans-6f\" x=\"803.376953\"/>\n     <use xlink:href=\"#DejaVuSans-73\" x=\"864.558594\"/>\n     <use xlink:href=\"#DejaVuSans-73\" x=\"916.658203\"/>\n    </g>\n   </g>\n  </g>\n  <g id=\"axes_3\">\n   <g id=\"patch_12\">\n    <path d=\"M 515.486949 348.478125 \nL 712.428125 348.478125 \nL 712.428125 22.318125 \nL 515.486949 22.318125 \nz\n\" style=\"fill: #ffffff\"/>\n   </g>\n   <g id=\"matplotlib.axis_5\">\n    <g id=\"xtick_13\">\n     <g id=\"line2d_29\">\n      <g>\n       <use xlink:href=\"#m309494b12d\" x=\"524.43882\" y=\"348.478125\" style=\"stroke: #000000; stroke-width: 0.8\"/>\n      </g>\n     </g>\n     <g id=\"text_29\">\n      <!-- 0 -->\n      <g transform=\"translate(521.25757 363.076563)scale(0.1 -0.1)\">\n       <use xlink:href=\"#DejaVuSans-30\"/>\n      </g>\n     </g>\n    </g>\n    <g id=\"xtick_14\">\n     <g id=\"line2d_30\">\n      <g>\n       <use xlink:href=\"#m309494b12d\" x=\"560.607999\" y=\"348.478125\" style=\"stroke: #000000; stroke-width: 0.8\"/>\n      </g>\n     </g>\n     <g id=\"text_30\">\n      <!-- 20 -->\n      <g transform=\"translate(554.245499 363.076563)scale(0.1 -0.1)\">\n       <use xlink:href=\"#DejaVuSans-32\"/>\n       <use xlink:href=\"#DejaVuSans-30\" x=\"63.623047\"/>\n      </g>\n     </g>\n    </g>\n    <g id=\"xtick_15\">\n     <g id=\"line2d_31\">\n      <g>\n       <use xlink:href=\"#m309494b12d\" x=\"596.777177\" y=\"348.478125\" style=\"stroke: #000000; stroke-width: 0.8\"/>\n      </g>\n     </g>\n     <g id=\"text_31\">\n      <!-- 40 -->\n      <g transform=\"translate(590.414677 363.076563)scale(0.1 -0.1)\">\n       <use xlink:href=\"#DejaVuSans-34\"/>\n       <use xlink:href=\"#DejaVuSans-30\" x=\"63.623047\"/>\n      </g>\n     </g>\n    </g>\n    <g id=\"xtick_16\">\n     <g id=\"line2d_32\">\n      <g>\n       <use xlink:href=\"#m309494b12d\" x=\"632.946355\" y=\"348.478125\" style=\"stroke: #000000; stroke-width: 0.8\"/>\n      </g>\n     </g>\n     <g id=\"text_32\">\n      <!-- 60 -->\n      <g transform=\"translate(626.583855 363.076563)scale(0.1 -0.1)\">\n       <use xlink:href=\"#DejaVuSans-36\"/>\n       <use xlink:href=\"#DejaVuSans-30\" x=\"63.623047\"/>\n      </g>\n     </g>\n    </g>\n    <g id=\"xtick_17\">\n     <g id=\"line2d_33\">\n      <g>\n       <use xlink:href=\"#m309494b12d\" x=\"669.115534\" y=\"348.478125\" style=\"stroke: #000000; stroke-width: 0.8\"/>\n      </g>\n     </g>\n     <g id=\"text_33\">\n      <!-- 80 -->\n      <g transform=\"translate(662.753034 363.076563)scale(0.1 -0.1)\">\n       <use xlink:href=\"#DejaVuSans-38\"/>\n       <use xlink:href=\"#DejaVuSans-30\" x=\"63.623047\"/>\n      </g>\n     </g>\n    </g>\n    <g id=\"xtick_18\">\n     <g id=\"line2d_34\">\n      <g>\n       <use xlink:href=\"#m309494b12d\" x=\"705.284712\" y=\"348.478125\" style=\"stroke: #000000; stroke-width: 0.8\"/>\n      </g>\n     </g>\n     <g id=\"text_34\">\n      <!-- 100 -->\n      <g transform=\"translate(695.740962 363.076563)scale(0.1 -0.1)\">\n       <use xlink:href=\"#DejaVuSans-31\"/>\n       <use xlink:href=\"#DejaVuSans-30\" x=\"63.623047\"/>\n       <use xlink:href=\"#DejaVuSans-30\" x=\"127.246094\"/>\n      </g>\n     </g>\n    </g>\n   </g>\n   <g id=\"matplotlib.axis_6\">\n    <g id=\"ytick_15\">\n     <g id=\"line2d_35\">\n      <g>\n       <use xlink:href=\"#m425ad14a7f\" x=\"515.486949\" y=\"316.985473\" style=\"stroke: #000000; stroke-width: 0.8\"/>\n      </g>\n     </g>\n     <g id=\"text_35\">\n      <!-- 0.840 -->\n      <g transform=\"translate(479.858824 320.784692)scale(0.1 -0.1)\">\n       <use xlink:href=\"#DejaVuSans-30\"/>\n       <use xlink:href=\"#DejaVuSans-2e\" x=\"63.623047\"/>\n       <use xlink:href=\"#DejaVuSans-38\" x=\"95.410156\"/>\n       <use xlink:href=\"#DejaVuSans-34\" x=\"159.033203\"/>\n       <use xlink:href=\"#DejaVuSans-30\" x=\"222.65625\"/>\n      </g>\n     </g>\n    </g>\n    <g id=\"ytick_16\">\n     <g id=\"line2d_36\">\n      <g>\n       <use xlink:href=\"#m425ad14a7f\" x=\"515.486949\" y=\"255.179902\" style=\"stroke: #000000; stroke-width: 0.8\"/>\n      </g>\n     </g>\n     <g id=\"text_36\">\n      <!-- 0.845 -->\n      <g transform=\"translate(479.858824 258.979121)scale(0.1 -0.1)\">\n       <use xlink:href=\"#DejaVuSans-30\"/>\n       <use xlink:href=\"#DejaVuSans-2e\" x=\"63.623047\"/>\n       <use xlink:href=\"#DejaVuSans-38\" x=\"95.410156\"/>\n       <use xlink:href=\"#DejaVuSans-34\" x=\"159.033203\"/>\n       <use xlink:href=\"#DejaVuSans-35\" x=\"222.65625\"/>\n      </g>\n     </g>\n    </g>\n    <g id=\"ytick_17\">\n     <g id=\"line2d_37\">\n      <g>\n       <use xlink:href=\"#m425ad14a7f\" x=\"515.486949\" y=\"193.37433\" style=\"stroke: #000000; stroke-width: 0.8\"/>\n      </g>\n     </g>\n     <g id=\"text_37\">\n      <!-- 0.850 -->\n      <g transform=\"translate(479.858824 197.173549)scale(0.1 -0.1)\">\n       <use xlink:href=\"#DejaVuSans-30\"/>\n       <use xlink:href=\"#DejaVuSans-2e\" x=\"63.623047\"/>\n       <use xlink:href=\"#DejaVuSans-38\" x=\"95.410156\"/>\n       <use xlink:href=\"#DejaVuSans-35\" x=\"159.033203\"/>\n       <use xlink:href=\"#DejaVuSans-30\" x=\"222.65625\"/>\n      </g>\n     </g>\n    </g>\n    <g id=\"ytick_18\">\n     <g id=\"line2d_38\">\n      <g>\n       <use xlink:href=\"#m425ad14a7f\" x=\"515.486949\" y=\"131.568758\" style=\"stroke: #000000; stroke-width: 0.8\"/>\n      </g>\n     </g>\n     <g id=\"text_38\">\n      <!-- 0.855 -->\n      <g transform=\"translate(479.858824 135.367977)scale(0.1 -0.1)\">\n       <use xlink:href=\"#DejaVuSans-30\"/>\n       <use xlink:href=\"#DejaVuSans-2e\" x=\"63.623047\"/>\n       <use xlink:href=\"#DejaVuSans-38\" x=\"95.410156\"/>\n       <use xlink:href=\"#DejaVuSans-35\" x=\"159.033203\"/>\n       <use xlink:href=\"#DejaVuSans-35\" x=\"222.65625\"/>\n      </g>\n     </g>\n    </g>\n    <g id=\"ytick_19\">\n     <g id=\"line2d_39\">\n      <g>\n       <use xlink:href=\"#m425ad14a7f\" x=\"515.486949\" y=\"69.763187\" style=\"stroke: #000000; stroke-width: 0.8\"/>\n      </g>\n     </g>\n     <g id=\"text_39\">\n      <!-- 0.860 -->\n      <g transform=\"translate(479.858824 73.562406)scale(0.1 -0.1)\">\n       <use xlink:href=\"#DejaVuSans-30\"/>\n       <use xlink:href=\"#DejaVuSans-2e\" x=\"63.623047\"/>\n       <use xlink:href=\"#DejaVuSans-38\" x=\"95.410156\"/>\n       <use xlink:href=\"#DejaVuSans-36\" x=\"159.033203\"/>\n       <use xlink:href=\"#DejaVuSans-30\" x=\"222.65625\"/>\n      </g>\n     </g>\n    </g>\n   </g>\n   <g id=\"line2d_40\">\n    <path d=\"M 524.43882 333.65267 \nL 526.247279 245.017023 \nL 528.055738 209.071531 \nL 529.864197 217.886293 \nL 531.672656 181.216556 \nL 533.481115 176.735518 \nL 535.289574 174.914701 \nL 537.098033 185.210954 \nL 538.906492 178.746803 \nL 540.71495 167.713822 \nL 542.523409 151.729904 \nL 544.331868 154.304461 \nL 546.140327 156.203947 \nL 547.948786 151.621919 \nL 549.757245 153.72461 \nL 551.565704 152.064033 \nL 553.374163 148.129861 \nL 555.182622 132.581262 \nL 556.991081 132.991218 \nL 558.79954 127.590925 \nL 560.607999 125.614069 \nL 562.416458 126.998754 \nL 564.224916 123.006238 \nL 566.033375 123.896874 \nL 567.841834 123.9731 \nL 569.650293 121.287308 \nL 571.458752 121.533905 \nL 573.267211 127.05995 \nL 575.07567 123.479412 \nL 576.884129 121.777876 \nL 578.692588 119.501936 \nL 580.501047 116.810517 \nL 582.309506 115.263766 \nL 584.117965 114.610069 \nL 585.926423 112.088737 \nL 587.734882 104.999205 \nL 589.543341 104.67321 \nL 591.3518 104.673078 \nL 593.160259 101.981774 \nL 594.968718 101.163656 \nL 596.777177 97.003896 \nL 598.585636 95.77907 \nL 600.394095 97.494974 \nL 602.202554 96.596567 \nL 604.011013 93.98454 \nL 605.819472 93.898043 \nL 607.627931 91.369571 \nL 609.436389 93.166447 \nL 611.244848 89.991555 \nL 613.053307 87.866551 \nL 614.861766 88.270585 \nL 616.670225 84.191436 \nL 618.478684 83.445053 \nL 620.287143 83.12609 \nL 622.095602 83.939314 \nL 623.904061 83.283781 \nL 625.71252 81.649973 \nL 627.520979 80.756431 \nL 629.329438 82.305725 \nL 631.137897 80.34602 \nL 632.946355 79.283605 \nL 634.754814 77.564792 \nL 636.563273 78.551332 \nL 638.371732 77.984315 \nL 640.180191 74.075369 \nL 641.98865 76.440239 \nL 643.797109 72.287145 \nL 645.605568 69.009112 \nL 647.414027 70.871909 \nL 649.222486 68.905768 \nL 651.030945 68.665844 \nL 652.839404 70.786302 \nL 654.647862 70.866373 \nL 656.456321 68.008378 \nL 658.26478 67.031133 \nL 660.073239 65.555926 \nL 661.881698 63.203202 \nL 663.690157 62.299312 \nL 665.498616 61.894088 \nL 667.307075 58.36313 \nL 669.115534 57.227441 \nL 670.923993 58.840342 \nL 672.732452 56.870701 \nL 674.540911 56.703919 \nL 676.34937 54.320019 \nL 678.157828 53.430441 \nL 679.966287 49.021181 \nL 681.774746 46.742488 \nL 683.583205 47.077364 \nL 685.391664 41.920366 \nL 687.200123 46.091569 \nL 689.008582 42.827795 \nL 690.817041 41.505943 \nL 692.6255 45.361774 \nL 694.433959 41.091443 \nL 696.242418 39.296578 \nL 698.050877 39.522016 \nL 699.859336 38.545709 \nL 701.667794 37.14358 \nL 703.476253 39.847482 \n\" clip-path=\"url(#p65f9aed442)\" style=\"fill: none; stroke: #1f77b4; stroke-width: 1.5; stroke-linecap: square\"/>\n   </g>\n   <g id=\"patch_13\">\n    <path d=\"M 515.486949 348.478125 \nL 515.486949 22.318125 \n\" style=\"fill: none; stroke: #000000; stroke-width: 0.8; stroke-linejoin: miter; stroke-linecap: square\"/>\n   </g>\n   <g id=\"patch_14\">\n    <path d=\"M 712.428125 348.478125 \nL 712.428125 22.318125 \n\" style=\"fill: none; stroke: #000000; stroke-width: 0.8; stroke-linejoin: miter; stroke-linecap: square\"/>\n   </g>\n   <g id=\"patch_15\">\n    <path d=\"M 515.486949 348.478125 \nL 712.428125 348.478125 \n\" style=\"fill: none; stroke: #000000; stroke-width: 0.8; stroke-linejoin: miter; stroke-linecap: square\"/>\n   </g>\n   <g id=\"patch_16\">\n    <path d=\"M 515.486949 22.318125 \nL 712.428125 22.318125 \n\" style=\"fill: none; stroke: #000000; stroke-width: 0.8; stroke-linejoin: miter; stroke-linecap: square\"/>\n   </g>\n   <g id=\"text_40\">\n    <!-- f1_score -->\n    <g transform=\"translate(588.908474 16.318125)scale(0.12 -0.12)\">\n     <defs>\n      <path id=\"DejaVuSans-63\" d=\"M 3122 3366 \nL 3122 2828 \nQ 2878 2963 2633 3030 \nQ 2388 3097 2138 3097 \nQ 1578 3097 1268 2742 \nQ 959 2388 959 1747 \nQ 959 1106 1268 751 \nQ 1578 397 2138 397 \nQ 2388 397 2633 464 \nQ 2878 531 3122 666 \nL 3122 134 \nQ 2881 22 2623 -34 \nQ 2366 -91 2075 -91 \nQ 1284 -91 818 406 \nQ 353 903 353 1747 \nQ 353 2603 823 3093 \nQ 1294 3584 2113 3584 \nQ 2378 3584 2631 3529 \nQ 2884 3475 3122 3366 \nz\n\" transform=\"scale(0.015625)\"/>\n     </defs>\n     <use xlink:href=\"#DejaVuSans-66\"/>\n     <use xlink:href=\"#DejaVuSans-31\" x=\"35.205078\"/>\n     <use xlink:href=\"#DejaVuSans-5f\" x=\"98.828125\"/>\n     <use xlink:href=\"#DejaVuSans-73\" x=\"148.828125\"/>\n     <use xlink:href=\"#DejaVuSans-63\" x=\"200.927734\"/>\n     <use xlink:href=\"#DejaVuSans-6f\" x=\"255.908203\"/>\n     <use xlink:href=\"#DejaVuSans-72\" x=\"317.089844\"/>\n     <use xlink:href=\"#DejaVuSans-65\" x=\"355.953125\"/>\n    </g>\n   </g>\n  </g>\n </g>\n <defs>\n  <clipPath id=\"pa21bb388a4\">\n   <rect x=\"42.828125\" y=\"22.318125\" width=\"196.941176\" height=\"326.16\"/>\n  </clipPath>\n  <clipPath id=\"pdc1a66e782\">\n   <rect x=\"279.157537\" y=\"22.318125\" width=\"196.941176\" height=\"326.16\"/>\n  </clipPath>\n  <clipPath id=\"p65f9aed442\">\n   <rect x=\"515.486949\" y=\"22.318125\" width=\"196.941176\" height=\"326.16\"/>\n  </clipPath>\n </defs>\n</svg>\n",
      "text/plain": [
       "<Figure size 864x432 with 3 Axes>"
      ]
     },
     "metadata": {
      "needs_background": "light"
     },
     "output_type": "display_data"
    }
   ],
   "source": [
    "clf = train_lgbm(eval_sets)\n",
    "plot_evals(clf)"
   ]
  },
  {
   "cell_type": "markdown",
   "metadata": {},
   "source": [
    "## optuna optimization"
   ]
  },
  {
   "cell_type": "code",
   "execution_count": 9,
   "metadata": {},
   "outputs": [],
   "source": [
    "def objective(trial, train_df):\n",
    "    # hyperparameter grid for Optuna to explore\n",
    "    hyperparams = {\n",
    "        \"device_type\": trial.suggest_categorical(\"device_type\", [\"gpu\"]),\n",
    "        # structure\n",
    "        \"max_depth\": trial.suggest_int(\"max_depth\", 3, 12, step=1),\n",
    "        \"num_leaves\": trial.suggest_int(\"num_leaves\", 20, 3000, step=50),\n",
    "        \"min_data_in_leaf\": trial.suggest_int(\"min_data_in_leaf\", 200, 10000, step=100),\n",
    "        # accuracy\n",
    "        \"learning_rate\": trial.suggest_float(\"learning_rate\", 0.01, 0.3),\n",
    "        \"n_estimators\": trial.suggest_categorical(\"n_estimators\", [500]),\n",
    "        # overfitting\n",
    "        #\"max_bin\": trial.suggest_int(\"max_bin\", 200, 300),\n",
    "        \"lambda_l1\": trial.suggest_int(\"lambda_l1\", 0, 100, step=5),\n",
    "        \"lambda_l2\": trial.suggest_int(\"lambda_l2\", 0, 100, step=5),\n",
    "        \"min_gain_to_split\": trial.suggest_float(\"min_gain_to_split\", 0, 15),\n",
    "        #\"feature_fraction\": trial.suggest_float(\"feature_fraction\", 0.2, 0.95, step=0.1),\n",
    "    }\n",
    "    \n",
    "    # split features and labels\n",
    "    x_df = train_df.loc[:, ~train_df.columns.isin([\"LABELS\"])]\n",
    "    y_df = train_df.loc[:, \"LABELS\"]\n",
    "    # create cross-validation folds object\n",
    "    kfold_cv = StratifiedKFold(n_splits=5, shuffle=True)\n",
    "    \n",
    "    # hold the best score of each fold\n",
    "    cv_scores = []\n",
    "    for idx, (train_idx, test_idx) in enumerate(kfold_cv.split(x_df, y_df)):\n",
    "        # train-validation split for each fold\n",
    "        x_train, x_test = x_df.iloc[train_idx], x_df.iloc[test_idx]\n",
    "        y_train, y_test = y_df.iloc[train_idx], y_df.iloc[test_idx]\n",
    "        \n",
    "        # train classifier with optuna hyperparameters\n",
    "        clf = LGBMClassifier(objective=\"binary\", verbose=-1, **hyperparams)\n",
    "        clf.fit(\n",
    "            x_train,\n",
    "            y_train,\n",
    "            eval_set=[(x_test, y_test)],\n",
    "            eval_metric=[\"logloss\", \"double_soft_f1_loss\"],\n",
    "            verbose=False,\n",
    "        )\n",
    "        \n",
    "        # store the best score to the CV score\n",
    "        best_score = clf.best_score_[\"valid_0\"][\"binary_logloss\"]#[\"double_soft_f1_loss\"]\n",
    "        cv_scores.append(best_score)\n",
    "    \n",
    "    # return the average best score across CV folds\n",
    "    return np.mean(cv_scores)"
   ]
  },
  {
   "cell_type": "code",
   "execution_count": 10,
   "metadata": {},
   "outputs": [
    {
     "name": "stderr",
     "output_type": "stream",
     "text": [
      "\u001b[32m[I 2021-11-28 10:13:30,166]\u001b[0m A new study created in memory with name: lgbm3\u001b[0m\n"
     ]
    }
   ],
   "source": [
    "# create optuna study\n",
    "study = optuna.create_study(direction=\"minimize\", study_name=\"lgbm3\")\n",
    "optimize = lambda trial: objective(trial, train_df)"
   ]
  },
  {
   "cell_type": "code",
   "execution_count": 11,
   "metadata": {},
   "outputs": [
    {
     "name": "stderr",
     "output_type": "stream",
     "text": [
      "C:\\Users\\TJ\\miniconda3\\envs\\kaggle2\\lib\\site-packages\\optuna\\distributions.py:560: UserWarning: The distribution is specified by [20, 3000] and step=50, but the range is not divisible by `step`. It will be replaced by [20, 2970].\n",
      "  warnings.warn(\n",
      "C:\\Users\\TJ\\miniconda3\\envs\\kaggle2\\lib\\site-packages\\lightgbm\\sklearn.py:736: UserWarning: 'verbose' argument is deprecated and will be removed in a future release of LightGBM. Pass 'log_evaluation()' callback via 'callbacks' argument instead.\n",
      "  _log_warning(\"'verbose' argument is deprecated and will be removed in a future release of LightGBM. \"\n"
     ]
    },
    {
     "name": "stdout",
     "output_type": "stream",
     "text": [
      "[LightGBM] [Warning] min_data_in_leaf is set=9500, min_child_samples=20 will be ignored. Current value: min_data_in_leaf=9500\n",
      "[LightGBM] [Warning] min_gain_to_split is set=1.6495219687927398, min_split_gain=0.0 will be ignored. Current value: min_gain_to_split=1.6495219687927398\n",
      "[LightGBM] [Warning] lambda_l1 is set=15, reg_alpha=0.0 will be ignored. Current value: lambda_l1=15\n",
      "[LightGBM] [Warning] lambda_l2 is set=75, reg_lambda=0.0 will be ignored. Current value: lambda_l2=75\n"
     ]
    },
    {
     "name": "stderr",
     "output_type": "stream",
     "text": [
      "C:\\Users\\TJ\\miniconda3\\envs\\kaggle2\\lib\\site-packages\\lightgbm\\sklearn.py:736: UserWarning: 'verbose' argument is deprecated and will be removed in a future release of LightGBM. Pass 'log_evaluation()' callback via 'callbacks' argument instead.\n",
      "  _log_warning(\"'verbose' argument is deprecated and will be removed in a future release of LightGBM. \"\n",
      "C:\\Users\\TJ\\miniconda3\\envs\\kaggle2\\lib\\site-packages\\lightgbm\\sklearn.py:736: UserWarning: 'verbose' argument is deprecated and will be removed in a future release of LightGBM. Pass 'log_evaluation()' callback via 'callbacks' argument instead.\n",
      "  _log_warning(\"'verbose' argument is deprecated and will be removed in a future release of LightGBM. \"\n",
      "C:\\Users\\TJ\\miniconda3\\envs\\kaggle2\\lib\\site-packages\\lightgbm\\sklearn.py:736: UserWarning: 'verbose' argument is deprecated and will be removed in a future release of LightGBM. Pass 'log_evaluation()' callback via 'callbacks' argument instead.\n",
      "  _log_warning(\"'verbose' argument is deprecated and will be removed in a future release of LightGBM. \"\n",
      "C:\\Users\\TJ\\miniconda3\\envs\\kaggle2\\lib\\site-packages\\lightgbm\\sklearn.py:736: UserWarning: 'verbose' argument is deprecated and will be removed in a future release of LightGBM. Pass 'log_evaluation()' callback via 'callbacks' argument instead.\n",
      "  _log_warning(\"'verbose' argument is deprecated and will be removed in a future release of LightGBM. \"\n",
      "\u001b[32m[I 2021-11-28 10:13:46,668]\u001b[0m Trial 0 finished with value: 0.39333555722267294 and parameters: {'device_type': 'gpu', 'max_depth': 11, 'num_leaves': 1120, 'min_data_in_leaf': 9500, 'learning_rate': 0.22578944688015531, 'n_estimators': 500, 'lambda_l1': 15, 'lambda_l2': 75, 'min_gain_to_split': 1.6495219687927398}. Best is trial 0 with value: 0.39333555722267294.\u001b[0m\n",
      "C:\\Users\\TJ\\miniconda3\\envs\\kaggle2\\lib\\site-packages\\optuna\\distributions.py:560: UserWarning: The distribution is specified by [20, 3000] and step=50, but the range is not divisible by `step`. It will be replaced by [20, 2970].\n",
      "  warnings.warn(\n",
      "C:\\Users\\TJ\\miniconda3\\envs\\kaggle2\\lib\\site-packages\\lightgbm\\sklearn.py:736: UserWarning: 'verbose' argument is deprecated and will be removed in a future release of LightGBM. Pass 'log_evaluation()' callback via 'callbacks' argument instead.\n",
      "  _log_warning(\"'verbose' argument is deprecated and will be removed in a future release of LightGBM. \"\n",
      "C:\\Users\\TJ\\miniconda3\\envs\\kaggle2\\lib\\site-packages\\lightgbm\\sklearn.py:736: UserWarning: 'verbose' argument is deprecated and will be removed in a future release of LightGBM. Pass 'log_evaluation()' callback via 'callbacks' argument instead.\n",
      "  _log_warning(\"'verbose' argument is deprecated and will be removed in a future release of LightGBM. \"\n",
      "C:\\Users\\TJ\\miniconda3\\envs\\kaggle2\\lib\\site-packages\\lightgbm\\sklearn.py:736: UserWarning: 'verbose' argument is deprecated and will be removed in a future release of LightGBM. Pass 'log_evaluation()' callback via 'callbacks' argument instead.\n",
      "  _log_warning(\"'verbose' argument is deprecated and will be removed in a future release of LightGBM. \"\n",
      "C:\\Users\\TJ\\miniconda3\\envs\\kaggle2\\lib\\site-packages\\lightgbm\\sklearn.py:736: UserWarning: 'verbose' argument is deprecated and will be removed in a future release of LightGBM. Pass 'log_evaluation()' callback via 'callbacks' argument instead.\n",
      "  _log_warning(\"'verbose' argument is deprecated and will be removed in a future release of LightGBM. \"\n",
      "C:\\Users\\TJ\\miniconda3\\envs\\kaggle2\\lib\\site-packages\\lightgbm\\sklearn.py:736: UserWarning: 'verbose' argument is deprecated and will be removed in a future release of LightGBM. Pass 'log_evaluation()' callback via 'callbacks' argument instead.\n",
      "  _log_warning(\"'verbose' argument is deprecated and will be removed in a future release of LightGBM. \"\n",
      "\u001b[32m[I 2021-11-28 10:13:52,103]\u001b[0m Trial 1 finished with value: 0.4345378763152195 and parameters: {'device_type': 'gpu', 'max_depth': 3, 'num_leaves': 2670, 'min_data_in_leaf': 7400, 'learning_rate': 0.11022993758641808, 'n_estimators': 500, 'lambda_l1': 65, 'lambda_l2': 50, 'min_gain_to_split': 7.79321798691264}. Best is trial 0 with value: 0.39333555722267294.\u001b[0m\n"
     ]
    }
   ],
   "source": [
    "# launch optuna study\n",
    "study.optimize(optimize, n_trials=2)"
   ]
  },
  {
   "cell_type": "code",
   "execution_count": 36,
   "metadata": {},
   "outputs": [],
   "source": [
    "# function to display optuna's best parameters\n",
    "# not all parameters are displayed, just those from the grid\n",
    "def study_summary(study):\n",
    "    print(\"Study: \", study.study_name)\n",
    "    print(\"\\nNumber of finished trials: {}\".format(len(study.trials)))\n",
    "    print(\"Best trial:\")\n",
    "    trial = study.best_trial\n",
    "    print(\"  Validation score: {}\".format(trial.value))\n",
    "    print(\"  Params: \")\n",
    "    for key, val in trial.params.items():\n",
    "        print(\"    {}: {}\".format(key, val))"
   ]
  },
  {
   "cell_type": "code",
   "execution_count": 37,
   "metadata": {},
   "outputs": [
    {
     "name": "stdout",
     "output_type": "stream",
     "text": [
      "Study:  lgbm3\n",
      "\n",
      "Number of finished trials: 2\n",
      "Best trial:\n",
      "  Validation score: 0.39333555722267294\n",
      "  Params: \n",
      "    device_type: gpu\n",
      "    max_depth: 11\n",
      "    num_leaves: 1120\n",
      "    min_data_in_leaf: 9500\n",
      "    learning_rate: 0.22578944688015531\n",
      "    n_estimators: 500\n",
      "    lambda_l1: 15\n",
      "    lambda_l2: 75\n",
      "    min_gain_to_split: 1.6495219687927398\n"
     ]
    }
   ],
   "source": [
    "study_summary(study)"
   ]
  },
  {
   "cell_type": "code",
   "execution_count": 38,
   "metadata": {},
   "outputs": [],
   "source": [
    "# train LGBM on the whole training set for final predictions\n",
    "def train_best_lgbm(train_df, hyperparams):\n",
    "    x_train = train_df.loc[:, ~train_df.columns.isin([\"LABELS\"])].values\n",
    "    y_train = train_df.loc[:, \"LABELS\"].values\n",
    "    \n",
    "    clf = LGBMClassifier(objective=\"binary\", verbose=-1, **hyperparams)\n",
    "    clf.fit(\n",
    "        x_train,\n",
    "        y_train,\n",
    "        eval_metric=[\"logloss\", \"double_soft_f1_loss\"],\n",
    "        verbose=False,\n",
    "    )\n",
    "    \n",
    "    return clf"
   ]
  },
  {
   "cell_type": "code",
   "execution_count": 39,
   "metadata": {},
   "outputs": [
    {
     "name": "stderr",
     "output_type": "stream",
     "text": [
      "C:\\Users\\TJ\\miniconda3\\envs\\kaggle2\\lib\\site-packages\\lightgbm\\sklearn.py:736: UserWarning: 'verbose' argument is deprecated and will be removed in a future release of LightGBM. Pass 'log_evaluation()' callback via 'callbacks' argument instead.\n",
      "  _log_warning(\"'verbose' argument is deprecated and will be removed in a future release of LightGBM. \"\n"
     ]
    }
   ],
   "source": [
    "# pass the optuna best parameters as hyperparameters\n",
    "best_clf = train_best_lgbm(train_df, study.best_params)"
   ]
  },
  {
   "cell_type": "code",
   "execution_count": null,
   "metadata": {},
   "outputs": [],
   "source": [
    "preds = best_clf.predict(test_df)"
   ]
  },
  {
   "cell_type": "markdown",
   "metadata": {},
   "source": [
    "# Save prediction"
   ]
  },
  {
   "cell_type": "code",
   "execution_count": null,
   "metadata": {},
   "outputs": [],
   "source": [
    "# save the .csv file to submission folder\n",
    "def save_pred(y, sub_id):\n",
    "    original_index = test_df.index\n",
    "    output_df = pd.DataFrame(y, index=original_index, columns=[\"LABELS\"], dtype=int)\n",
    "    output_df.to_csv(f\"./submission/submission{sub_id}.csv\")"
   ]
  },
  {
   "cell_type": "code",
   "execution_count": null,
   "metadata": {},
   "outputs": [],
   "source": [
    "save_pred(preds, 3)"
   ]
  }
 ],
 "metadata": {
  "interpreter": {
   "hash": "dae5d1116d4d553a0e39b61a9f0bab7c2cbe8d4609cc9f2dd6e8cafa0fb3f2e7"
  },
  "kernelspec": {
   "display_name": "Python 3.8.0 64-bit ('kaggle2': conda)",
   "name": "python3"
  },
  "language_info": {
   "codemirror_mode": {
    "name": "ipython",
    "version": 3
   },
   "file_extension": ".py",
   "mimetype": "text/x-python",
   "name": "python",
   "nbconvert_exporter": "python",
   "pygments_lexer": "ipython3",
   "version": "3.8.0"
  },
  "orig_nbformat": 4
 },
 "nbformat": 4,
 "nbformat_minor": 2
}
