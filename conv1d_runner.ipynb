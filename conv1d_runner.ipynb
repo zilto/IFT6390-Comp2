{
 "cells": [
  {
   "cell_type": "code",
   "execution_count": null,
   "metadata": {},
   "outputs": [],
   "source": [
    "import numpy as np\n",
    "import pandas as pd\n",
    "import torch\n",
    "import torch.nn as nn\n",
    "import torch.nn.functional as F\n",
    "import matplotlib.pyplot as plt\n",
    "\n",
    "from model_conv1d import CNN1D, TrainingHarness\n",
    "from preprocessing import create_tensor, standard_scaling, cv_split, create_tensor\n",
    "from utils import save_pred\n",
    "\n",
    "%load_ext autoreload\n",
    "%autoreload 2\n",
    "%aimport numpy\n",
    "%aimport torch\n",
    "%aimport matplotlib.pyplot\n",
    "\n",
    "device = torch.device(\"cuda\" if torch.cuda.is_available() else \"cpu\")"
   ]
  },
  {
   "cell_type": "code",
   "execution_count": null,
   "metadata": {},
   "outputs": [],
   "source": [
    "train_df = pd.read_csv(\"./data/train.csv\", index_col=0).drop_duplicates()\n",
    "test_df = pd.read_csv(\"./data/test_nolabels.csv\", index_col=0)"
   ]
  },
  {
   "cell_type": "code",
   "execution_count": null,
   "metadata": {},
   "outputs": [],
   "source": [
    "scaled_train_df, scaled_test_df = standard_scaling(train_df, test_df)"
   ]
  },
  {
   "cell_type": "code",
   "execution_count": null,
   "metadata": {},
   "outputs": [],
   "source": [
    "def create_torch_dataset(train_df):\n",
    "    sets = cv_split(train_df, n_splits=2)\n",
    "\n",
    "    x_train = torch.as_tensor(create_tensor(sets[0][\"train\"][0]), dtype=torch.float).to(device)\n",
    "    y_train = torch.as_tensor(sets[0][\"train\"][1].to_numpy(), dtype=torch.float).to(device)\n",
    "\n",
    "    x_val = torch.as_tensor(create_tensor(sets[0][\"test\"][0]), dtype=torch.float).to(device)\n",
    "    y_val = torch.as_tensor(sets[0][\"test\"][1].to_numpy(), dtype=torch.float).to(device)\n",
    "\n",
    "    return ((x_train, y_train), (x_val, y_val))"
   ]
  },
  {
   "cell_type": "code",
   "execution_count": null,
   "metadata": {},
   "outputs": [],
   "source": [
    "dataset = create_torch_dataset(scaled_train_df)"
   ]
  },
  {
   "cell_type": "code",
   "execution_count": null,
   "metadata": {},
   "outputs": [],
   "source": [
    "model_CNN1d = CNN1D()\n",
    "model_CNN1d.to(device)"
   ]
  },
  {
   "cell_type": "code",
   "execution_count": null,
   "metadata": {},
   "outputs": [],
   "source": [
    "harness = TrainingHarness(dataset=dataset, model=model_CNN1d)"
   ]
  },
  {
   "cell_type": "code",
   "execution_count": null,
   "metadata": {},
   "outputs": [],
   "source": [
    "logs = harness.train_loop(200)"
   ]
  },
  {
   "cell_type": "code",
   "execution_count": null,
   "metadata": {},
   "outputs": [],
   "source": [
    "harness.plot_logs()"
   ]
  },
  {
   "cell_type": "code",
   "execution_count": null,
   "metadata": {},
   "outputs": [],
   "source": [
    "x_test = torch.as_tensor(create_tensor(scaled_test_df), dtype=torch.float).to(device)\n",
    "bin_pred = harness.model(x_test).argmax(axis=1).detach().numpy()"
   ]
  },
  {
   "cell_type": "code",
   "execution_count": null,
   "metadata": {},
   "outputs": [],
   "source": [
    "output_df = pd.DataFrame(bin_pred, index=test_df.index, columns=[\"LABELS\"], dtype=int)\n",
    "output_df.to_csv(f\"./submission/submission8.csv\")"
   ]
  },
  {
   "cell_type": "code",
   "execution_count": null,
   "metadata": {},
   "outputs": [],
   "source": [
    "save_pred(test_df, bin_pred, 8)"
   ]
  }
 ],
 "metadata": {
  "interpreter": {
   "hash": "dae5d1116d4d553a0e39b61a9f0bab7c2cbe8d4609cc9f2dd6e8cafa0fb3f2e7"
  },
  "kernelspec": {
   "display_name": "Python 3.8.0 64-bit ('kaggle2': conda)",
   "name": "python3"
  },
  "language_info": {
   "codemirror_mode": {
    "name": "ipython",
    "version": 3
   },
   "file_extension": ".py",
   "mimetype": "text/x-python",
   "name": "python",
   "nbconvert_exporter": "python",
   "pygments_lexer": "ipython3",
   "version": "3.8.0"
  },
  "orig_nbformat": 4
 },
 "nbformat": 4,
 "nbformat_minor": 2
}
