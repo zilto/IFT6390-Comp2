{
 "cells": [
  {
   "cell_type": "code",
   "execution_count": 1,
   "metadata": {},
   "outputs": [],
   "source": [
    "import numpy as np\n",
    "import pandas as pd\n",
    "import matplotlib.pyplot as plt\n",
    "\n",
    "from sklearn.preprocessing import StandardScaler\n",
    "from sklearn.model_selection import StratifiedKFold, train_test_split\n",
    "from sklearn.metrics import f1_score, classification_report\n",
    "\n",
    "import lightgbm as lgbm\n",
    "from lightgbm import LGBMClassifier\n",
    "from xgboost import XGBClassifier\n",
    "\n",
    "import optuna\n",
    "\n",
    "from preprocessing import agg_over_months\n",
    "from utils import study_summary\n",
    "\n",
    "\n",
    "plt.rcParams[\"figure.figsize\"] = (12, 6)"
   ]
  },
  {
   "cell_type": "markdown",
   "metadata": {},
   "source": [
    "# Setup"
   ]
  },
  {
   "cell_type": "code",
   "execution_count": 2,
   "metadata": {},
   "outputs": [],
   "source": [
    "train_df = pd.read_csv(\"./data/train.csv\", index_col=0).drop_duplicates()\n",
    "X = train_df.loc[:, ~train_df.columns.isin([\"LABELS\"])]\n",
    "y = train_df.loc[:, \"LABELS\"]\n",
    "\n",
    "X_train, X_test, y_train, y_test = train_test_split(X,y, test_size=0.3, random_state=42, stratify=y)"
   ]
  },
  {
   "cell_type": "code",
   "execution_count": 3,
   "metadata": {},
   "outputs": [],
   "source": [
    "# Constants to select pandas columns efficiently\n",
    "# all months abbreviations: jan, feb, mar, etc.\n",
    "MONTHS = [m.lower() for m in pd.date_range(0, freq=\"M\", periods=12).strftime(\"%b\").to_list()]\n",
    "# return all columns based on MONTH: train_df[COL_BY_MONTH[\"jan\"]]\n",
    "COL_BY_MONTH = {}\n",
    "for month in MONTHS:\n",
    "    COL_BY_MONTH[month] = [col for col in X.columns if month in col]\n",
    "\n",
    "# all features\n",
    "FEATURES = [col for col in X.columns if col != \"LABELS\"]\n",
    "# all features with the month stripped: S2_B2_\n",
    "COL_BASE = list({col[:-3] for col in FEATURES})\n",
    "# return all columns based on FEATURE (e.g., across months): train_df[COL_BY_FEATURE[\"S2_B2_\"]]\n",
    "# alternatively, you can select the same df using: train_df[COL_BY_FEATURE[FEATURES[0]]]\n",
    "COL_BY_FEATURE = {}\n",
    "for feature in COL_BASE:\n",
    "    COL_BY_FEATURE[feature] = [col for col in X.columns if feature in col]"
   ]
  },
  {
   "cell_type": "markdown",
   "metadata": {},
   "source": [
    "# Feature Generation"
   ]
  },
  {
   "cell_type": "code",
   "execution_count": 4,
   "metadata": {},
   "outputs": [],
   "source": [
    "generated_train_features_df = agg_over_months(X_train, agg_func=[\"mean\", \"std\", \"min\", \"max\"], freq=3)\n",
    "generated_train_features_df.dropna(axis=1, how='all', inplace=True)\n",
    "X_train = X_train.merge(generated_train_features_df, left_index=True, right_index=True)"
   ]
  },
  {
   "cell_type": "code",
   "execution_count": 5,
   "metadata": {},
   "outputs": [],
   "source": [
    "generated_test_features_df = agg_over_months(X_test, agg_func=[\"mean\", \"std\", \"min\", \"max\"], freq=3)\n",
    "X_test = X_test.merge(generated_test_features_df, left_index=True, right_index=True)\n",
    "X_test = X_test[X_train.columns]"
   ]
  },
  {
   "cell_type": "code",
   "execution_count": 6,
   "metadata": {},
   "outputs": [
    {
     "name": "stdout",
     "output_type": "stream",
     "text": [
      "1.0    28433\n",
      "0.0    13641\n",
      "Name: LABELS, dtype: int64 1.0    12186\n",
      "0.0     5846\n",
      "Name: LABELS, dtype: int64\n"
     ]
    }
   ],
   "source": [
    "print(y_train.value_counts(), y_test.value_counts())"
   ]
  },
  {
   "cell_type": "markdown",
   "metadata": {},
   "source": [
    "# Optuna Hyperparameter Optimization"
   ]
  },
  {
   "cell_type": "code",
   "execution_count": 7,
   "metadata": {},
   "outputs": [],
   "source": [
    "def objective(trial, X, y):\n",
    "    # hyperparameter grid for Optuna to explore\n",
    "    hyperparams = {\n",
    "        # structure\n",
    "        \"max_depth\": trial.suggest_int(\"max_depth\", 3, 20, step=1),\n",
    "        \"min_child_weight\": trial.suggest_int(\"min_child_weight\", 1, 15, step=1),\n",
    "        # accuracy\n",
    "        \"learning_rate\": trial.suggest_float(\"learning_rate\", 0.01, 0.3),\n",
    "        \"n_estimators\": trial.suggest_categorical(\"n_estimators\", [100]),\n",
    "        # overfitting\n",
    "        \"gamma\": trial.suggest_float(\"gamma\", 0.0, 1.0),\n",
    "        \"reg_alpha\": trial.suggest_float(\"reg_alpha\", 0.0, 1.0),\n",
    "        \"reg_lambda\": trial.suggest_float(\"reg_lambda\", 0.0, 1.0),\n",
    "        \"subsample\": trial.suggest_float(\"subsample\", 0.0, 1.0)\n",
    "    }\n",
    "    \n",
    "    # hold the best score of each fold\n",
    "    cv_scores = []\n",
    "    kfold_cv = StratifiedKFold(n_splits=5, shuffle=True)\n",
    "    for idx, (train_idx, test_idx) in enumerate(kfold_cv.split(X, y)):\n",
    "        # train-validation split for each fold\n",
    "        X_train, X_test = X.iloc[train_idx], X.iloc[test_idx]\n",
    "        y_train, y_test = y.iloc[train_idx], y.iloc[test_idx]\n",
    "\n",
    "        # Scale weights to deal with imblanace\n",
    "        y1_scale_weights = y_train.sum() / y_train.shape[0]\n",
    "        hyperparams['scale_pos_weight'] = y1_scale_weights\n",
    "\n",
    "        \n",
    "        # Train classifier with optuna hyperparameters\n",
    "        clf = XGBClassifier(objective=\"binary:logistic\", use_label_encoder=False, tree_method='gpu_hist', gpu_id=0, **hyperparams)\n",
    "        clf.fit(\n",
    "            X_train,\n",
    "            y_train,\n",
    "            eval_set=[(X_test, y_test)],\n",
    "            eval_metric=[\"logloss\"],\n",
    "            verbose=True,\n",
    "        )\n",
    "        \n",
    "        # store the best score to the CV score\n",
    "        results = clf.evals_result()\n",
    "        best_iteration = clf.best_iteration\n",
    "        cv_scores.append(results['validation_0']['logloss'][best_iteration])\n",
    "    \n",
    "    # return the average best score across CV folds\n",
    "    return np.mean(cv_scores)"
   ]
  },
  {
   "cell_type": "code",
   "execution_count": null,
   "metadata": {},
   "outputs": [],
   "source": []
  },
  {
   "cell_type": "code",
   "execution_count": 8,
   "metadata": {},
   "outputs": [
    {
     "name": "stderr",
     "output_type": "stream",
     "text": [
      "\u001b[32m[I 2021-12-11 10:45:15,984]\u001b[0m A new study created in memory with name: lgbm02\u001b[0m\n"
     ]
    }
   ],
   "source": [
    "# create optuna study\n",
    "study = optuna.create_study(direction=\"minimize\", study_name=\"lgbm02\")\n",
    "optimize = lambda trial: objective(trial, X_train, y_train)"
   ]
  },
  {
   "cell_type": "code",
   "execution_count": 1,
   "metadata": {},
   "outputs": [],
   "source": [
    "# launch optuna study\n",
    "#study.optimize(optimize, n_trials=50)"
   ]
  },
  {
   "cell_type": "code",
   "execution_count": 17,
   "metadata": {},
   "outputs": [
    {
     "name": "stdout",
     "output_type": "stream",
     "text": [
      "Study:  lgbm02\n",
      "\n",
      "Number of finished trials: 50\n",
      "Best trial:\n",
      "  Validation score: 0.33640980000000004\n",
      "  Params: \n",
      "    max_depth: 16\n",
      "    min_child_weight: 11\n",
      "    learning_rate: 0.06824116817309857\n",
      "    n_estimators: 100\n",
      "    gamma: 0.21860883217784488\n",
      "    reg_alpha: 0.01918484441539514\n",
      "    reg_lambda: 0.8214537559144491\n",
      "    subsample: 0.9121747941410446\n"
     ]
    }
   ],
   "source": [
    "study_summary(study)"
   ]
  },
  {
   "cell_type": "code",
   "execution_count": 30,
   "metadata": {},
   "outputs": [],
   "source": [
    "X_df = X_train.copy()\n",
    "y_df = y_train.copy()\n",
    "X_test_df = X_test.copy()\n",
    "y_test_df = y_test.copy()"
   ]
  },
  {
   "cell_type": "code",
   "execution_count": 33,
   "metadata": {},
   "outputs": [],
   "source": [
    "def train_test_model(X_train,y_train,X_test,y_test, study):\n",
    "    clf = XGBClassifier(objective=\"binary:logistic\",\n",
    "                        scale_pos_weight=y_train.sum()/y_train.shape[0],\n",
    "                        use_label_encoder=False,\n",
    "                        tree_method='gpu_hist',\n",
    "                        gpu_id=0,\n",
    "                        **study.best_params)\n",
    "    clf = clf.fit(\n",
    "            X_train,\n",
    "            y_train.astype(int),\n",
    "            eval_metric=[\"logloss\"],\n",
    "            verbose=True,\n",
    "        )\n",
    "    \n",
    "    y_pred = clf.predict(X_test).astype(int)\n",
    "    y_prob = clf.predict_proba(X_test)\n",
    "\n",
    "    return (clf, y_pred, y_prob, y_test)"
   ]
  },
  {
   "cell_type": "code",
   "execution_count": 34,
   "metadata": {},
   "outputs": [
    {
     "name": "stdout",
     "output_type": "stream",
     "text": [
      "              precision    recall  f1-score   support\n",
      "\n",
      "         0.0       0.75      0.78      0.76      5846\n",
      "         1.0       0.89      0.88      0.88     12186\n",
      "\n",
      "    accuracy                           0.84     18032\n",
      "   macro avg       0.82      0.83      0.82     18032\n",
      "weighted avg       0.84      0.84      0.84     18032\n",
      "\n"
     ]
    },
    {
     "data": {
      "text/plain": [
       "0.8828373960187063"
      ]
     },
     "execution_count": 34,
     "metadata": {},
     "output_type": "execute_result"
    }
   ],
   "source": [
    "(clf, y_pred, y_prob, y_test) = train_test_model(X_df, y_df, X_test_df, y_test_df, study)\n",
    "print(classification_report(y_test, y_pred))\n",
    "f1_score(y_test, y_pred)"
   ]
  },
  {
   "cell_type": "code",
   "execution_count": 35,
   "metadata": {},
   "outputs": [],
   "source": [
    "features = pd.DataFrame()\n",
    "features['columns'] = X_df.columns\n",
    "features['importances'] = clf.feature_importances_\n",
    "features.sort_values(by='importances', ascending=True, inplace=True)"
   ]
  },
  {
   "cell_type": "code",
   "execution_count": 46,
   "metadata": {},
   "outputs": [],
   "source": [
    "features_reduced = features[features['importances'] > 0.001]['columns'].tolist()"
   ]
  },
  {
   "cell_type": "code",
   "execution_count": 49,
   "metadata": {},
   "outputs": [
    {
     "data": {
      "text/plain": [
       "259"
      ]
     },
     "execution_count": 49,
     "metadata": {},
     "output_type": "execute_result"
    }
   ],
   "source": [
    "len(features_reduced)"
   ]
  },
  {
   "cell_type": "code",
   "execution_count": 50,
   "metadata": {},
   "outputs": [
    {
     "name": "stdout",
     "output_type": "stream",
     "text": [
      "              precision    recall  f1-score   support\n",
      "\n",
      "         0.0       0.75      0.78      0.76      5846\n",
      "         1.0       0.89      0.87      0.88     12186\n",
      "\n",
      "    accuracy                           0.84     18032\n",
      "   macro avg       0.82      0.83      0.82     18032\n",
      "weighted avg       0.84      0.84      0.84     18032\n",
      "\n"
     ]
    },
    {
     "data": {
      "text/plain": [
       "0.8825260017403554"
      ]
     },
     "execution_count": 50,
     "metadata": {},
     "output_type": "execute_result"
    }
   ],
   "source": [
    "(clf, y_pred, y_prob, y_test) = train_test_model(X_df[features_reduced], y_df, X_test_df[features_reduced], y_test_df, study)\n",
    "print(classification_report(y_test, y_pred))\n",
    "f1_score(y_test, y_pred)"
   ]
  },
  {
   "cell_type": "code",
   "execution_count": 51,
   "metadata": {},
   "outputs": [],
   "source": [
    "# Train on full data\n",
    "generated_X_features_df = agg_over_months(X, agg_func=[\"mean\", \"std\", \"min\", \"max\"], freq=3)\n",
    "generated_X_features_df.dropna(axis=1, how='all', inplace=True)\n",
    "X_full_train = X.merge(generated_X_features_df, left_index=True, right_index=True)"
   ]
  },
  {
   "cell_type": "code",
   "execution_count": 55,
   "metadata": {},
   "outputs": [],
   "source": [
    "clf = XGBClassifier(objective=\"binary:logistic\",\n",
    "                        scale_pos_weight=y.sum()/y.shape[0],\n",
    "                        use_label_encoder=False,\n",
    "                        tree_method='gpu_hist',\n",
    "                        gpu_id=0,\n",
    "                        **study.best_params)\n",
    "clf = clf.fit(\n",
    "            X_full_train[features_reduced],\n",
    "            y.astype(int),\n",
    "            eval_metric=[\"logloss\"],\n",
    "            verbose=True,\n",
    "        )\n",
    "    "
   ]
  },
  {
   "cell_type": "code",
   "execution_count": 56,
   "metadata": {},
   "outputs": [],
   "source": [
    "output = {\n",
    "    \"hyperparams\": study.best_params,\n",
    "    \"features\": features_reduced\n",
    "}\n"
   ]
  },
  {
   "cell_type": "code",
   "execution_count": 65,
   "metadata": {},
   "outputs": [],
   "source": [
    "held_out_test = pd.read_csv(\"data/test_nolabels.csv\")\n",
    "generated_held_out_test_features_df = agg_over_months(held_out_test, agg_func=[\"mean\", \"std\", \"min\", \"max\"], freq=3)\n",
    "X_held_out = held_out_test.merge(generated_held_out_test_features_df, left_index=True, right_index=True)\n",
    "X_held_out = X_held_out[features_reduced]"
   ]
  },
  {
   "cell_type": "code",
   "execution_count": 66,
   "metadata": {},
   "outputs": [],
   "source": [
    "y_pred = clf.predict(X_held_out)\n",
    "y_prob = clf.predict_proba(X_held_out)"
   ]
  },
  {
   "cell_type": "code",
   "execution_count": 67,
   "metadata": {},
   "outputs": [],
   "source": [
    "submission = pd.DataFrame()\n",
    "submission[\"S.No\"] = held_out_test[\"S.No\"]\n",
    "submission[\"LABELS\"] = y_pred"
   ]
  },
  {
   "cell_type": "code",
   "execution_count": 71,
   "metadata": {},
   "outputs": [],
   "source": [
    "submission.to_csv(\"submissions/submission6.csv\", index=False)"
   ]
  },
  {
   "cell_type": "code",
   "execution_count": 72,
   "metadata": {},
   "outputs": [],
   "source": [
    "import pickle"
   ]
  },
  {
   "cell_type": "code",
   "execution_count": 73,
   "metadata": {},
   "outputs": [],
   "source": [
    "with open(\"submissions/subimssion6_params.pkl\", \"wb\") as f:\n",
    "    pickle.dump(output, f)"
   ]
  },
  {
   "cell_type": "code",
   "execution_count": 74,
   "metadata": {},
   "outputs": [],
   "source": [
    "with open(\"submissions/submission6_model.pkl\", \"wb\") as f:\n",
    "    pickle.dump(clf, f)"
   ]
  },
  {
   "cell_type": "markdown",
   "metadata": {},
   "source": []
  }
 ],
 "metadata": {
  "interpreter": {
   "hash": "dae5d1116d4d553a0e39b61a9f0bab7c2cbe8d4609cc9f2dd6e8cafa0fb3f2e7"
  },
  "kernelspec": {
   "display_name": "Python 3.8.0 64-bit ('kaggle2': conda)",
   "name": "python3"
  },
  "language_info": {
   "codemirror_mode": {
    "name": "ipython",
    "version": 3
   },
   "file_extension": ".py",
   "mimetype": "text/x-python",
   "name": "python",
   "nbconvert_exporter": "python",
   "pygments_lexer": "ipython3",
   "version": "3.7.11"
  },
  "orig_nbformat": 4
 },
 "nbformat": 4,
 "nbformat_minor": 2
}
